{
 "cells": [
  {
   "cell_type": "markdown",
   "id": "fda7c452",
   "metadata": {},
   "source": [
    "**11장 - 심층 신경망**"
   ]
  },
  {
   "cell_type": "markdown",
   "id": "1c3f6ae8",
   "metadata": {},
   "source": [
    "# 설정"
   ]
  },
  {
   "cell_type": "code",
   "execution_count": 1,
   "id": "c2ca65c5",
   "metadata": {},
   "outputs": [],
   "source": [
    "# 파이썬 ≥3.5 필수\n",
    "import sys\n",
    "assert sys.version_info >= (3, 5)\n",
    "\n",
    "# 사이킷런 ≥0.20 필수\n",
    "import sklearn\n",
    "assert sklearn.__version__ >= \"0.20\"\n",
    "\n",
    "# 텐서플로 ≥2.0 필수\n",
    "import tensorflow as tf\n",
    "from tensorflow import keras\n",
    "assert tf.__version__ >= \"2.0\"\n",
    "\n",
    "#tf.debugging.set_log_device_placement(True)\n",
    "#a = tf.constant([[1.0, 2.0, 3.0], [4.0, 5.0, 6.0]])\n",
    "#b = tf.constant([[1.0, 2.0], [3.0, 4.0], [5.0, 6.0]])\n",
    "#c = tf.matmul(a, b)\n",
    "#print(c)\n",
    "\n",
    "%load_ext tensorboard\n",
    "\n",
    "# 공통 모듈 임포트\n",
    "import numpy as np\n",
    "import os\n",
    "\n",
    "# 노트북 실행 결과를 동일하게 유지하기 위해\n",
    "np.random.seed(42)\n",
    "\n",
    "# 깔끔한 그래프 출력을 위해\n",
    "%matplotlib inline\n",
    "import matplotlib as mpl\n",
    "import matplotlib.pyplot as plt\n",
    "mpl.rc('axes', labelsize=14)\n",
    "mpl.rc('xtick', labelsize=12)\n",
    "mpl.rc('ytick', labelsize=12)\n",
    "\n",
    "# 그림을 저장할 위치\n",
    "PROJECT_ROOT_DIR = \".\"\n",
    "CHAPTER_ID = \"11\"\n",
    "IMAGES_PATH = os.path.join(PROJECT_ROOT_DIR, \"images\", CHAPTER_ID)\n",
    "os.makedirs(IMAGES_PATH, exist_ok=True)\n",
    "\n",
    "def save_fig(fig_id, tight_layout=True, fig_extension=\"png\", resolution=300):\n",
    "    path = os.path.join(IMAGES_PATH, fig_id + \".\" + fig_extension)\n",
    "    print(\"그림 저장:\", fig_id)\n",
    "    if tight_layout:\n",
    "        plt.tight_layout()\n",
    "    plt.savefig(path, format=fig_extension, dpi=resolution)"
   ]
  },
  {
   "cell_type": "markdown",
   "id": "0b68ad9c",
   "metadata": {},
   "source": [
    "# 그레디언트 소실과 폭주\n"
   ]
  },
  {
   "cell_type": "markdown",
   "id": "aba7cd3c",
   "metadata": {},
   "source": [
    "## 수렴하지 않는 활성화 함수"
   ]
  },
  {
   "cell_type": "markdown",
   "id": "7d0e153b",
   "metadata": {},
   "source": [
    "### LeakyReLU"
   ]
  },
  {
   "cell_type": "code",
   "execution_count": 2,
   "id": "6b8a23a3",
   "metadata": {},
   "outputs": [],
   "source": [
    "def LeakyRelu(z, alpha=0.01):\n",
    "    return np.maximum(alpha*z, z)"
   ]
  },
  {
   "cell_type": "code",
   "execution_count": 3,
   "id": "15c1519e",
   "metadata": {},
   "outputs": [
    {
     "name": "stdout",
     "output_type": "stream",
     "text": [
      "그림 저장: leaky_relu_plot\n"
     ]
    },
    {
     "data": {
      "image/png": "[encoded data removed]",
      "text/plain": [
       "<Figure size 432x288 with 1 Axes>"
      ]
     },
     "metadata": {
      "needs_background": "light"
     },
     "output_type": "display_data"
    }
   ],
   "source": [
    "z = np.linspace(-5, 5, 200)\n",
    "plt.plot(z, LeakyRelu(z, 0.05))\n",
    "plt.plot([-5,5] , [0,0], 'k-')\n",
    "plt.plot([0, 0], [-0.5, 4.2], 'k-')\n",
    "plt.grid(True)\n",
    "props = dict(facecolor='black', shrink=0.1)\n",
    "plt.annotate('Leak', xytext=(-3.5, 0.5), xy=(-5, -0.2), arrowprops=props, fontsize=14, ha=\"center\")\n",
    "plt.title(\"Leaky ReLU activation function\", fontsize=14)\n",
    "plt.axis([-5, 5, -0.5, 4.2])\n",
    "\n",
    "save_fig(\"leaky_relu_plot\")\n",
    "plt.show()"
   ]
  },
  {
   "cell_type": "markdown",
   "id": "0c576374",
   "metadata": {},
   "source": [
    "LeakyReLU를 사용한 패션 MNIST에서 신경망 훈련"
   ]
  },
  {
   "cell_type": "code",
   "execution_count": 4,
   "id": "d3ae31e2",
   "metadata": {},
   "outputs": [],
   "source": [
    "(X_TrainFull, y_TrainFull), (X_Test, y_Test) = keras.datasets.fashion_mnist.load_data()\n",
    "X_TrainFull = X_TrainFull/255.0\n",
    "X_Test = X_Test/255.0\n",
    "X_Valid, X_Train = X_TrainFull[:5000], X_TrainFull[5000:]\n",
    "y_Valid, y_Train = y_TrainFull[:5000], y_TrainFull[5000:]"
   ]
  },
  {
   "cell_type": "code",
   "execution_count": 5,
   "id": "ed667c58",
   "metadata": {},
   "outputs": [
    {
     "name": "stdout",
     "output_type": "stream",
     "text": [
      "Model: \"sequential\"\n",
      "_________________________________________________________________\n",
      " Layer (type)                Output Shape              Param #   \n",
      "=================================================================\n",
      " flatten (Flatten)           (None, 784)               0         \n",
      "                                                                 \n",
      " dense (Dense)               (None, 300)               235500    \n",
      "                                                                 \n",
      " leaky_re_lu (LeakyReLU)     (None, 300)               0         \n",
      "                                                                 \n",
      " dense_1 (Dense)             (None, 100)               30100     \n",
      "                                                                 \n",
      " leaky_re_lu_1 (LeakyReLU)   (None, 100)               0         \n",
      "                                                                 \n",
      " dense_2 (Dense)             (None, 10)                1010      \n",
      "                                                                 \n",
      "=================================================================\n",
      "Total params: 266,610\n",
      "Trainable params: 266,610\n",
      "Non-trainable params: 0\n",
      "_________________________________________________________________\n",
      "('You must install pydot (`pip install pydot`) and install graphviz (see instructions at https://graphviz.gitlab.io/download/) ', 'for plot_model/model_to_dot to work.')\n"
     ]
    },
    {
     "name": "stderr",
     "output_type": "stream",
     "text": [
      "2022-06-04 15:22:05.571494: I tensorflow/stream_executor/cuda/cuda_gpu_executor.cc:939] successful NUMA node read from SysFS had negative value (-1), but there must be at least one NUMA node, so returning NUMA node zero\n",
      "2022-06-04 15:22:05.583348: I tensorflow/stream_executor/cuda/cuda_gpu_executor.cc:939] successful NUMA node read from SysFS had negative value (-1), but there must be at least one NUMA node, so returning NUMA node zero\n",
      "2022-06-04 15:22:05.583479: I tensorflow/stream_executor/cuda/cuda_gpu_executor.cc:939] successful NUMA node read from SysFS had negative value (-1), but there must be at least one NUMA node, so returning NUMA node zero\n",
      "2022-06-04 15:22:05.584407: I tensorflow/core/platform/cpu_feature_guard.cc:151] This TensorFlow binary is optimized with oneAPI Deep Neural Network Library (oneDNN) to use the following CPU instructions in performance-critical operations:  AVX2 AVX512F FMA\n",
      "To enable them in other operations, rebuild TensorFlow with the appropriate compiler flags.\n",
      "2022-06-04 15:22:05.585630: I tensorflow/stream_executor/cuda/cuda_gpu_executor.cc:939] successful NUMA node read from SysFS had negative value (-1), but there must be at least one NUMA node, so returning NUMA node zero\n",
      "2022-06-04 15:22:05.585766: I tensorflow/stream_executor/cuda/cuda_gpu_executor.cc:939] successful NUMA node read from SysFS had negative value (-1), but there must be at least one NUMA node, so returning NUMA node zero\n",
      "2022-06-04 15:22:05.585884: I tensorflow/stream_executor/cuda/cuda_gpu_executor.cc:939] successful NUMA node read from SysFS had negative value (-1), but there must be at least one NUMA node, so returning NUMA node zero\n",
      "2022-06-04 15:22:05.882433: I tensorflow/stream_executor/cuda/cuda_gpu_executor.cc:939] successful NUMA node read from SysFS had negative value (-1), but there must be at least one NUMA node, so returning NUMA node zero\n",
      "2022-06-04 15:22:05.882549: I tensorflow/stream_executor/cuda/cuda_gpu_executor.cc:939] successful NUMA node read from SysFS had negative value (-1), but there must be at least one NUMA node, so returning NUMA node zero\n",
      "2022-06-04 15:22:05.882623: I tensorflow/stream_executor/cuda/cuda_gpu_executor.cc:939] successful NUMA node read from SysFS had negative value (-1), but there must be at least one NUMA node, so returning NUMA node zero\n",
      "2022-06-04 15:22:05.882704: I tensorflow/core/common_runtime/gpu/gpu_device.cc:1525] Created device /job:localhost/replica:0/task:0/device:GPU:0 with 1883 MB memory:  -> device: 0, name: NVIDIA GeForce RTX 3050 Ti Laptop GPU, pci bus id: 0000:01:00.0, compute capability: 8.6\n"
     ]
    }
   ],
   "source": [
    "tf.random.set_seed(42)\n",
    "np.random.seed(42)\n",
    "\n",
    "model = keras.models.Sequential(\n",
    "    [\n",
    "        keras.layers.Flatten(input_shape=[28,28]),\n",
    "        keras.layers.Dense(300, kernel_initializer=\"he_normal\"),\n",
    "        keras.layers.LeakyReLU(),\n",
    "        keras.layers.Dense(100, kernel_initializer=\"he_normal\"),\n",
    "        keras.layers.LeakyReLU(),\n",
    "        keras.layers.Dense(10, activation=\"softmax\")\n",
    "    ]\n",
    ")\n",
    "\n",
    "model.summary()\n",
    "keras.utils.plot_model(model, show_shapes=True)"
   ]
  },
  {
   "cell_type": "code",
   "execution_count": 6,
   "id": "a113454c",
   "metadata": {},
   "outputs": [],
   "source": [
    "model.compile(\n",
    "    loss = \"sparse_categorical_crossentropy\",\n",
    "    optimizer=keras.optimizers.SGD(learning_rate=1e-3),\n",
    "    metrics=[\"accuracy\"]\n",
    ")"
   ]
  },
  {
   "cell_type": "code",
   "execution_count": 7,
   "id": "f3087243",
   "metadata": {},
   "outputs": [
    {
     "name": "stderr",
     "output_type": "stream",
     "text": [
      "2022-06-04 15:22:24.125205: W tensorflow/core/framework/cpu_allocator_impl.cc:82] Allocation of 172480000 exceeds 10% of free system memory.\n",
      "2022-06-04 15:22:24.215838: W tensorflow/core/framework/cpu_allocator_impl.cc:82] Allocation of 172480000 exceeds 10% of free system memory.\n"
     ]
    },
    {
     "name": "stdout",
     "output_type": "stream",
     "text": [
      "Epoch 1/10\n",
      " 178/1719 [==>...........................] - ETA: 1s - loss: 2.0611 - accuracy: 0.2979"
     ]
    },
    {
     "name": "stderr",
     "output_type": "stream",
     "text": [
      "2022-06-04 15:22:24.981627: I tensorflow/stream_executor/cuda/cuda_blas.cc:1774] TensorFloat-32 will be used for the matrix multiplication. This will only be logged once.\n"
     ]
    },
    {
     "name": "stdout",
     "output_type": "stream",
     "text": [
      "1719/1719 [==============================] - 2s 939us/step - loss: 1.2819 - accuracy: 0.6228 - val_loss: 0.8886 - val_accuracy: 0.7158\n",
      "Epoch 2/10\n",
      "1719/1719 [==============================] - 2s 891us/step - loss: 0.7955 - accuracy: 0.7361 - val_loss: 0.7130 - val_accuracy: 0.7656\n",
      "Epoch 3/10\n",
      "1719/1719 [==============================] - 2s 887us/step - loss: 0.6816 - accuracy: 0.7721 - val_loss: 0.6427 - val_accuracy: 0.7900\n",
      "Epoch 4/10\n",
      "1719/1719 [==============================] - 2s 894us/step - loss: 0.6217 - accuracy: 0.7945 - val_loss: 0.5900 - val_accuracy: 0.8066\n",
      "Epoch 5/10\n",
      "1719/1719 [==============================] - 2s 887us/step - loss: 0.5832 - accuracy: 0.8074 - val_loss: 0.5582 - val_accuracy: 0.8198\n",
      "Epoch 6/10\n",
      "1719/1719 [==============================] - 2s 886us/step - loss: 0.5553 - accuracy: 0.8156 - val_loss: 0.5350 - val_accuracy: 0.8240\n",
      "Epoch 7/10\n",
      "1719/1719 [==============================] - 2s 890us/step - loss: 0.5338 - accuracy: 0.8225 - val_loss: 0.5157 - val_accuracy: 0.8304\n",
      "Epoch 8/10\n",
      "1719/1719 [==============================] - 2s 891us/step - loss: 0.5173 - accuracy: 0.8272 - val_loss: 0.5078 - val_accuracy: 0.8286\n",
      "Epoch 9/10\n",
      "1719/1719 [==============================] - 2s 898us/step - loss: 0.5040 - accuracy: 0.8290 - val_loss: 0.4895 - val_accuracy: 0.8388\n",
      "Epoch 10/10\n",
      "1719/1719 [==============================] - 2s 902us/step - loss: 0.4924 - accuracy: 0.8322 - val_loss: 0.4817 - val_accuracy: 0.8394\n"
     ]
    }
   ],
   "source": [
    "with tf.device(\"/device:GPU:0\"):\n",
    "    history = model.fit(X_Train, y_Train, epochs= 10,\n",
    "                    validation_data=(X_Valid, y_Valid))"
   ]
  },
  {
   "cell_type": "markdown",
   "id": "42d1e4f5",
   "metadata": {},
   "source": [
    "### LeakyReLU"
   ]
  },
  {
   "cell_type": "code",
   "execution_count": 8,
   "id": "05495910",
   "metadata": {
    "execution": {
     "iopub.execute_input": "2021-10-10T01:38:51.093592Z",
     "iopub.status.busy": "2021-10-10T01:38:51.092825Z",
     "iopub.status.idle": "2021-10-10T01:38:51.095060Z",
     "shell.execute_reply": "2021-10-10T01:38:51.094664Z"
    },
    "id": "WPfFeM26LOpD"
   },
   "outputs": [],
   "source": [
    "def elu(z, alpha=1):\n",
    "    return np.where(z < 0, alpha * (np.exp(z) - 1), z)"
   ]
  },
  {
   "cell_type": "code",
   "execution_count": 9,
   "id": "add7c3cd",
   "metadata": {},
   "outputs": [
    {
     "name": "stdout",
     "output_type": "stream",
     "text": [
      "그림 저장: elu_plot\n"
     ]
    },
    {
     "data": {
      "image/png": "[encoded data removed]",
      "text/plain": [
       "<Figure size 432x288 with 1 Axes>"
      ]
     },
     "metadata": {
      "needs_background": "light"
     },
     "output_type": "display_data"
    }
   ],
   "source": [
    "plt.plot(z, elu(z), \"b-\", linewidth=2)\n",
    "plt.plot([-5, 5], [0, 0], 'k-')\n",
    "plt.plot([-5, 5], [-1, -1], 'k--')\n",
    "plt.plot([0, 0], [-2.2, 3.2], 'k-')\n",
    "plt.grid(True)\n",
    "plt.title(r\"ELU activation function ($\\alpha=1$)\", fontsize=14)\n",
    "plt.axis([-5, 5, -2.2, 3.2])\n",
    "\n",
    "save_fig(\"elu_plot\")\n",
    "plt.show()"
   ]
  },
  {
   "cell_type": "markdown",
   "id": "b6b79f7c",
   "metadata": {},
   "source": [
    "ELU 적용 : 층을 만들 때 활성화 함수로 지정!"
   ]
  },
  {
   "cell_type": "code",
   "execution_count": 10,
   "id": "de0f31df",
   "metadata": {},
   "outputs": [
    {
     "data": {
      "text/plain": [
       "<keras.layers.core.dense.Dense at 0x7fe96e3eb0d0>"
      ]
     },
     "execution_count": 10,
     "metadata": {},
     "output_type": "execute_result"
    }
   ],
   "source": [
    "keras.layers.Dense(10, activation=\"elu\")"
   ]
  },
  {
   "cell_type": "markdown",
   "id": "4bc11634",
   "metadata": {},
   "source": [
    "### SELU"
   ]
  },
  {
   "cell_type": "markdown",
   "id": "e7dbad22",
   "metadata": {},
   "source": [
    "시퀀셜한 모델과 사용 : 정규화, 드롭아웃, 스킵 연결 등 사용 불가"
   ]
  },
  {
   "cell_type": "code",
   "execution_count": 11,
   "id": "a6381ba2",
   "metadata": {},
   "outputs": [],
   "source": [
    "from scipy.special import erfc\n",
    "\n",
    "# alpha와 scale은 평균 0과 표준 편차 1로 자기 졍규화\n",
    "# (논문에 있는 식 14 참조):\n",
    "alpha_0_1 = -np.sqrt(2 / np.pi) / (erfc(1/np.sqrt(2)) * np.exp(1/2) - 1)\n",
    "scale_0_1 = (1 - erfc(1 / np.sqrt(2)) * np.sqrt(np.e)) * np.sqrt(2 * np.pi) * (2 * erfc(np.sqrt(2))*np.e**2 + np.pi*erfc(1/np.sqrt(2))**2*np.e - 2*(2+np.pi)*erfc(1/np.sqrt(2))*np.sqrt(np.e)+np.pi+2)**(-1/2)"
   ]
  },
  {
   "cell_type": "code",
   "execution_count": 12,
   "id": "5723be68",
   "metadata": {},
   "outputs": [],
   "source": [
    "def selu(z, scale=scale_0_1, alpha=alpha_0_1):\n",
    "    return scale * elu(z, alpha)"
   ]
  },
  {
   "cell_type": "code",
   "execution_count": 13,
   "id": "462730ef",
   "metadata": {},
   "outputs": [
    {
     "name": "stdout",
     "output_type": "stream",
     "text": [
      "그림 저장: selu_plot\n"
     ]
    },
    {
     "data": {
      "image/png": "[encoded data removed]",
      "text/plain": [
       "<Figure size 432x288 with 1 Axes>"
      ]
     },
     "metadata": {
      "needs_background": "light"
     },
     "output_type": "display_data"
    }
   ],
   "source": [
    "plt.plot(z, selu(z), \"b-\", linewidth=2)\n",
    "plt.plot([-5, 5], [0, 0], 'k-')\n",
    "plt.plot([-5, 5], [-1.758, -1.758], 'k--')\n",
    "plt.plot([0, 0], [-2.2, 3.2], 'k-')\n",
    "plt.grid(True)\n",
    "plt.title(\"SELU activation function\", fontsize=14)\n",
    "plt.axis([-5, 5, -2.2, 3.2])\n",
    "\n",
    "save_fig(\"selu_plot\")\n",
    "plt.show()"
   ]
  },
  {
   "cell_type": "markdown",
   "id": "d5599e3a",
   "metadata": {},
   "source": [
    "SELU 하이퍼파라미터(`scale`과 `alpha`)는 각 뉴런의 평균 출력이 0에 가깝고 표준 편차는 1에 가깝도록 조정.(입력은 평균이 0이고 표준 편차 1로 표준화되었다고 가정). 이 활성화 함수를 사용하면 1,000개의 층이 있는 심층 신경망도 모든 층에 걸쳐 거의 평균이 0이고 표준 편차를 1로 유지. 이를 통해 그레이디언트 폭주와 소실 문제를 피함"
   ]
  },
  {
   "cell_type": "code",
   "execution_count": 14,
   "id": "dbd98269",
   "metadata": {},
   "outputs": [
    {
     "name": "stdout",
     "output_type": "stream",
     "text": [
      "Layer 0: mean -0.00, std deviation 1.00\n",
      "Layer 100: mean 0.02, std deviation 0.96\n",
      "Layer 200: mean 0.01, std deviation 0.90\n",
      "Layer 300: mean -0.02, std deviation 0.92\n",
      "Layer 400: mean 0.05, std deviation 0.89\n",
      "Layer 500: mean 0.01, std deviation 0.93\n",
      "Layer 600: mean 0.02, std deviation 0.92\n",
      "Layer 700: mean -0.02, std deviation 0.90\n",
      "Layer 800: mean 0.05, std deviation 0.83\n",
      "Layer 900: mean 0.02, std deviation 1.00\n"
     ]
    }
   ],
   "source": [
    "np.random.seed(42)\n",
    "Z = np.random.normal(size=(500, 100)) # 표준화된 입력\n",
    "for layer in range(1000):\n",
    "    W = np.random.normal(size=(100, 100), scale=np.sqrt(1 / 100)) # LeCun 초기화\n",
    "    Z = selu(np.dot(Z, W))\n",
    "    means = np.mean(Z, axis=0).mean()\n",
    "    stds = np.std(Z, axis=0).mean()\n",
    "    if layer % 100 == 0:\n",
    "        print(\"Layer {}: mean {:.2f}, std deviation {:.2f}\".format(layer, means, stds))"
   ]
  },
  {
   "cell_type": "markdown",
   "id": "98d88086",
   "metadata": {},
   "source": [
    "SELU 적용 : 층을 만들 때 활성화 함수로 지정!"
   ]
  },
  {
   "cell_type": "code",
   "execution_count": 15,
   "id": "20df730a",
   "metadata": {},
   "outputs": [
    {
     "data": {
      "text/plain": [
       "<keras.layers.core.dense.Dense at 0x7fe96e42e110>"
      ]
     },
     "execution_count": 15,
     "metadata": {},
     "output_type": "execute_result"
    }
   ],
   "source": [
    "keras.layers.Dense(10, activation=\"selu\",\n",
    "                   kernel_initializer=\"lecun_normal\")"
   ]
  },
  {
   "cell_type": "markdown",
   "id": "6c045630",
   "metadata": {},
   "source": [
    "SELU 활성화 함수를 사용한 MNIST 신경망"
   ]
  },
  {
   "cell_type": "code",
   "execution_count": 16,
   "id": "1db6fd9c",
   "metadata": {},
   "outputs": [],
   "source": [
    "np.random.seed(42)\n",
    "tf.random.set_seed(42)\n",
    "\n",
    "model = keras.models.Sequential()\n",
    "model.add(keras.layers.Flatten(input_shape=[28,28]))\n",
    "model.add(keras.layers.Dense(300, activation=\"selu\",\n",
    "                             kernel_initializer=\"lecun_normal\"))\n",
    "for layer in range(99):\n",
    "    model.add(keras.layers.Dense(100, activation=\"selu\",\n",
    "                                 kernel_initializer=\"lecun_normal\"))\n",
    "model.add(keras.layers.Dense(10, activation=\"softmax\"))\n",
    "\n",
    "#model.summary()\n",
    "#keras.utils.plot_model(model, show_shapes=True)"
   ]
  },
  {
   "cell_type": "code",
   "execution_count": 17,
   "id": "8db25109",
   "metadata": {},
   "outputs": [],
   "source": [
    "model.compile(loss=\"sparse_categorical_crossentropy\",\n",
    "              optimizer=keras.optimizers.SGD(learning_rate=1e-3),\n",
    "              metrics=[\"accuracy\"])"
   ]
  },
  {
   "cell_type": "markdown",
   "id": "b0e8a43d",
   "metadata": {},
   "source": [
    "훈련 시 입력을 평균 0, 표준편차 1로 바꿔주야 함."
   ]
  },
  {
   "cell_type": "code",
   "execution_count": 18,
   "id": "59ba9e44",
   "metadata": {},
   "outputs": [],
   "source": [
    "pixelMeans = X_Train.mean(axis=0, keepdims=True)\n",
    "pixelStds = X_Train.std(axis=0, keepdims=True)\n",
    "X_TrainScaled = (X_Train - pixelMeans) / pixelStds\n",
    "X_ValidScaled = (X_Valid - pixelMeans) / pixelStds\n",
    "X_TestScaled = (X_Test - pixelMeans) / pixelStds"
   ]
  },
  {
   "cell_type": "code",
   "execution_count": 20,
   "id": "f26ce081",
   "metadata": {},
   "outputs": [
    {
     "name": "stderr",
     "output_type": "stream",
     "text": [
      "2022-06-04 15:23:00.007349: I tensorflow/stream_executor/cuda/cuda_gpu_executor.cc:939] successful NUMA node read from SysFS had negative value (-1), but there must be at least one NUMA node, so returning NUMA node zero\n",
      "2022-06-04 15:23:00.007496: I tensorflow/stream_executor/cuda/cuda_gpu_executor.cc:939] successful NUMA node read from SysFS had negative value (-1), but there must be at least one NUMA node, so returning NUMA node zero\n",
      "2022-06-04 15:23:00.007565: I tensorflow/stream_executor/cuda/cuda_gpu_executor.cc:939] successful NUMA node read from SysFS had negative value (-1), but there must be at least one NUMA node, so returning NUMA node zero\n",
      "2022-06-04 15:23:00.007678: I tensorflow/stream_executor/cuda/cuda_gpu_executor.cc:939] successful NUMA node read from SysFS had negative value (-1), but there must be at least one NUMA node, so returning NUMA node zero\n",
      "2022-06-04 15:23:00.007750: I tensorflow/stream_executor/cuda/cuda_gpu_executor.cc:939] successful NUMA node read from SysFS had negative value (-1), but there must be at least one NUMA node, so returning NUMA node zero\n",
      "2022-06-04 15:23:00.007810: I tensorflow/core/common_runtime/gpu/gpu_device.cc:1525] Created device /device:GPU:0 with 1883 MB memory:  -> device: 0, name: NVIDIA GeForce RTX 3050 Ti Laptop GPU, pci bus id: 0000:01:00.0, compute capability: 8.6\n"
     ]
    },
    {
     "data": {
      "text/plain": [
       "[name: \"/device:CPU:0\"\n",
       " device_type: \"CPU\"\n",
       " memory_limit: 268435456\n",
       " locality {\n",
       " }\n",
       " incarnation: 16289265962345173911\n",
       " xla_global_id: -1,\n",
       " name: \"/device:GPU:0\"\n",
       " device_type: \"GPU\"\n",
       " memory_limit: 1974468608\n",
       " locality {\n",
       "   bus_id: 1\n",
       "   links {\n",
       "   }\n",
       " }\n",
       " incarnation: 12132861191742692462\n",
       " physical_device_desc: \"device: 0, name: NVIDIA GeForce RTX 3050 Ti Laptop GPU, pci bus id: 0000:01:00.0, compute capability: 8.6\"\n",
       " xla_global_id: 416903419]"
      ]
     },
     "execution_count": 20,
     "metadata": {},
     "output_type": "execute_result"
    }
   ],
   "source": [
    "from tensorflow.python.client import device_lib\n",
    "device_lib.list_local_devices()"
   ]
  },
  {
   "cell_type": "code",
   "execution_count": 21,
   "id": "5037e0c9",
   "metadata": {},
   "outputs": [
    {
     "name": "stderr",
     "output_type": "stream",
     "text": [
      "2022-06-04 15:23:00.705572: W tensorflow/core/framework/cpu_allocator_impl.cc:82] Allocation of 172480000 exceeds 10% of free system memory.\n",
      "2022-06-04 15:23:00.782512: W tensorflow/core/framework/cpu_allocator_impl.cc:82] Allocation of 172480000 exceeds 10% of free system memory.\n"
     ]
    },
    {
     "name": "stdout",
     "output_type": "stream",
     "text": [
      "Epoch 1/5\n",
      "1719/1719 [==============================] - 12s 6ms/step - loss: 1.4909 - accuracy: 0.4164 - val_loss: 0.9834 - val_accuracy: 0.6436\n",
      "Epoch 2/5\n",
      "1719/1719 [==============================] - 10s 6ms/step - loss: 0.8020 - accuracy: 0.7030 - val_loss: 0.6527 - val_accuracy: 0.7646\n",
      "Epoch 3/5\n",
      "1719/1719 [==============================] - 9s 6ms/step - loss: 0.6459 - accuracy: 0.7682 - val_loss: 0.6181 - val_accuracy: 0.7766\n",
      "Epoch 4/5\n",
      "1719/1719 [==============================] - 9s 5ms/step - loss: 0.5937 - accuracy: 0.7935 - val_loss: 0.5367 - val_accuracy: 0.8114\n",
      "Epoch 5/5\n",
      "1719/1719 [==============================] - 10s 6ms/step - loss: 0.5350 - accuracy: 0.8131 - val_loss: 0.5197 - val_accuracy: 0.8214\n"
     ]
    }
   ],
   "source": [
    "with tf.device(\"/device:GPU:0\"):\n",
    "    history = model.fit(X_TrainScaled, y_Train, epochs=5,\n",
    "                    validation_data=(X_ValidScaled, y_Valid))"
   ]
  },
  {
   "cell_type": "markdown",
   "id": "05014cf5",
   "metadata": {},
   "source": [
    "ReLU 활성화 함수 사용 : 그래디언트 폭주나 소실 문제 발생"
   ]
  },
  {
   "cell_type": "code",
   "execution_count": 22,
   "id": "cdab6646",
   "metadata": {},
   "outputs": [],
   "source": [
    "np.random.seed(42)\n",
    "tf.random.set_seed(42)\n",
    "\n",
    "model = keras.models.Sequential()\n",
    "model.add(keras.layers.Flatten(input_shape=[28, 28]))\n",
    "model.add(keras.layers.Dense(300, activation=\"relu\", kernel_initializer=\"he_normal\"))\n",
    "for layer in range(99):\n",
    "    model.add(keras.layers.Dense(100, activation=\"relu\", kernel_initializer=\"he_normal\"))\n",
    "model.add(keras.layers.Dense(10, activation=\"softmax\"))"
   ]
  },
  {
   "cell_type": "code",
   "execution_count": 23,
   "id": "0c9ccb18",
   "metadata": {},
   "outputs": [],
   "source": [
    "model.compile(loss=\"sparse_categorical_crossentropy\",\n",
    "              optimizer=keras.optimizers.SGD(learning_rate=1e-3),\n",
    "              metrics=[\"accuracy\"])"
   ]
  },
  {
   "cell_type": "code",
   "execution_count": 24,
   "id": "3780f210",
   "metadata": {},
   "outputs": [
    {
     "name": "stderr",
     "output_type": "stream",
     "text": [
      "2022-06-04 15:25:15.224211: W tensorflow/core/framework/cpu_allocator_impl.cc:82] Allocation of 172480000 exceeds 10% of free system memory.\n"
     ]
    },
    {
     "name": "stdout",
     "output_type": "stream",
     "text": [
      "Epoch 1/5\n",
      "1719/1719 [==============================] - 11s 6ms/step - loss: 1.7898 - accuracy: 0.2781 - val_loss: 1.2900 - val_accuracy: 0.3962\n",
      "Epoch 2/5\n",
      "1719/1719 [==============================] - 10s 6ms/step - loss: 1.1704 - accuracy: 0.5139 - val_loss: 1.1558 - val_accuracy: 0.5056\n",
      "Epoch 3/5\n",
      "1719/1719 [==============================] - 10s 6ms/step - loss: 1.0322 - accuracy: 0.5628 - val_loss: 0.8987 - val_accuracy: 0.6096\n",
      "Epoch 4/5\n",
      "1719/1719 [==============================] - 10s 6ms/step - loss: 0.9250 - accuracy: 0.6213 - val_loss: 0.8273 - val_accuracy: 0.6806\n",
      "Epoch 5/5\n",
      "1719/1719 [==============================] - 10s 6ms/step - loss: 0.8656 - accuracy: 0.6564 - val_loss: 0.7496 - val_accuracy: 0.7166\n"
     ]
    }
   ],
   "source": [
    "history = model.fit(X_TrainScaled, y_Train, epochs=5,\n",
    "                validation_data=(X_ValidScaled, y_Valid))"
   ]
  },
  {
   "cell_type": "markdown",
   "id": "742f5169",
   "metadata": {},
   "source": [
    "## 배치 정규화"
   ]
  },
  {
   "cell_type": "markdown",
   "id": "7d8ae70e",
   "metadata": {},
   "source": [
    "은닉층의 활성화 함수 전이나 후에 배치 정규화 층 사용"
   ]
  },
  {
   "cell_type": "code",
   "execution_count": 25,
   "id": "f519dec5",
   "metadata": {
    "execution": {
     "iopub.execute_input": "2021-10-10T01:38:51.093592Z",
     "iopub.status.busy": "2021-10-10T01:38:51.092825Z",
     "iopub.status.idle": "2021-10-10T01:38:51.095060Z",
     "shell.execute_reply": "2021-10-10T01:38:51.094664Z"
    },
    "id": "WPfFeM26LOpD"
   },
   "outputs": [],
   "source": [
    "model = keras.models.Sequential([\n",
    "    keras.layers.Flatten(input_shape=[28, 28]),\n",
    "    keras.layers.BatchNormalization(),\n",
    "    keras.layers.Dense(300, activation=\"relu\"),\n",
    "    keras.layers.BatchNormalization(),\n",
    "    keras.layers.Dense(100, activation=\"relu\"),\n",
    "    keras.layers.BatchNormalization(),\n",
    "    keras.layers.Dense(10, activation=\"softmax\")\n",
    "])"
   ]
  },
  {
   "cell_type": "code",
   "execution_count": 26,
   "id": "fd4b3ed0",
   "metadata": {},
   "outputs": [
    {
     "name": "stdout",
     "output_type": "stream",
     "text": [
      "Model: \"sequential_3\"\n",
      "_________________________________________________________________\n",
      " Layer (type)                Output Shape              Param #   \n",
      "=================================================================\n",
      " flatten_3 (Flatten)         (None, 784)               0         \n",
      "                                                                 \n",
      " batch_normalization (BatchN  (None, 784)              3136      \n",
      " ormalization)                                                   \n",
      "                                                                 \n",
      " dense_207 (Dense)           (None, 300)               235500    \n",
      "                                                                 \n",
      " batch_normalization_1 (Batc  (None, 300)              1200      \n",
      " hNormalization)                                                 \n",
      "                                                                 \n",
      " dense_208 (Dense)           (None, 100)               30100     \n",
      "                                                                 \n",
      " batch_normalization_2 (Batc  (None, 100)              400       \n",
      " hNormalization)                                                 \n",
      "                                                                 \n",
      " dense_209 (Dense)           (None, 10)                1010      \n",
      "                                                                 \n",
      "=================================================================\n",
      "Total params: 271,346\n",
      "Trainable params: 268,978\n",
      "Non-trainable params: 2,368\n",
      "_________________________________________________________________\n"
     ]
    }
   ],
   "source": [
    "model.summary()"
   ]
  },
  {
   "cell_type": "code",
   "execution_count": 27,
   "id": "2e0bb717",
   "metadata": {},
   "outputs": [
    {
     "data": {
      "text/plain": [
       "[('batch_normalization/gamma:0', True),\n",
       " ('batch_normalization/beta:0', True),\n",
       " ('batch_normalization/moving_mean:0', False),\n",
       " ('batch_normalization/moving_variance:0', False)]"
      ]
     },
     "execution_count": 27,
     "metadata": {},
     "output_type": "execute_result"
    }
   ],
   "source": [
    "bn1 = model.layers[1]\n",
    "[(var.name, var.trainable) for var in bn1.variables]"
   ]
  },
  {
   "cell_type": "code",
   "execution_count": 28,
   "id": "d8195011",
   "metadata": {},
   "outputs": [],
   "source": [
    "model.compile(loss=\"sparse_categorical_crossentropy\",\n",
    "              optimizer=keras.optimizers.SGD(learning_rate=1e-3),\n",
    "              metrics=[\"accuracy\"])"
   ]
  },
  {
   "cell_type": "code",
   "execution_count": 29,
   "id": "0b7622eb",
   "metadata": {},
   "outputs": [
    {
     "name": "stdout",
     "output_type": "stream",
     "text": [
      "Epoch 1/10\n",
      "1719/1719 [==============================] - 3s 2ms/step - loss: 0.8750 - accuracy: 0.7123 - val_loss: 0.5526 - val_accuracy: 0.8230\n",
      "Epoch 2/10\n",
      "1719/1719 [==============================] - 2s 1ms/step - loss: 0.5753 - accuracy: 0.8030 - val_loss: 0.4725 - val_accuracy: 0.8472\n",
      "Epoch 3/10\n",
      "1719/1719 [==============================] - 3s 1ms/step - loss: 0.5189 - accuracy: 0.8204 - val_loss: 0.4375 - val_accuracy: 0.8548\n",
      "Epoch 4/10\n",
      "1719/1719 [==============================] - 3s 1ms/step - loss: 0.4827 - accuracy: 0.8323 - val_loss: 0.4152 - val_accuracy: 0.8604\n",
      "Epoch 5/10\n",
      "1719/1719 [==============================] - 3s 1ms/step - loss: 0.4565 - accuracy: 0.8408 - val_loss: 0.3997 - val_accuracy: 0.8646\n",
      "Epoch 6/10\n",
      "1719/1719 [==============================] - 3s 1ms/step - loss: 0.4398 - accuracy: 0.8473 - val_loss: 0.3867 - val_accuracy: 0.8696\n",
      "Epoch 7/10\n",
      "1719/1719 [==============================] - 2s 1ms/step - loss: 0.4242 - accuracy: 0.8515 - val_loss: 0.3764 - val_accuracy: 0.8716\n",
      "Epoch 8/10\n",
      "1719/1719 [==============================] - 2s 1ms/step - loss: 0.4143 - accuracy: 0.8540 - val_loss: 0.3712 - val_accuracy: 0.8738\n",
      "Epoch 9/10\n",
      "1719/1719 [==============================] - 2s 1ms/step - loss: 0.4023 - accuracy: 0.8583 - val_loss: 0.3632 - val_accuracy: 0.8748\n",
      "Epoch 10/10\n",
      "1719/1719 [==============================] - 3s 1ms/step - loss: 0.3914 - accuracy: 0.8623 - val_loss: 0.3573 - val_accuracy: 0.8760\n"
     ]
    }
   ],
   "source": [
    "history = model.fit(X_Train, y_Train, epochs=10,\n",
    "                    validation_data=(X_Valid, y_Valid))"
   ]
  },
  {
   "cell_type": "markdown",
   "id": "cc8a7995",
   "metadata": {},
   "source": [
    "활성화 함수 이전 배치 정규화 층 사용"
   ]
  },
  {
   "cell_type": "code",
   "execution_count": 30,
   "id": "a3d3b50e",
   "metadata": {},
   "outputs": [],
   "source": [
    "model = keras.models.Sequential([\n",
    "    keras.layers.Flatten(input_shape=[28, 28]),\n",
    "    keras.layers.BatchNormalization(),\n",
    "    keras.layers.Dense(300, use_bias=False),\n",
    "    keras.layers.BatchNormalization(),\n",
    "    keras.layers.Activation(\"relu\"),\n",
    "    keras.layers.Dense(100, use_bias=False),\n",
    "\n",
    "    keras.layers.BatchNormalization(),\n",
    "    keras.layers.Activation(\"relu\"),\n",
    "    keras.layers.Dense(10, activation=\"softmax\")\n",
    "])\n"
   ]
  },
  {
   "cell_type": "code",
   "execution_count": 31,
   "id": "1035c4d3",
   "metadata": {},
   "outputs": [],
   "source": [
    "model.compile(loss=\"sparse_categorical_crossentropy\",\n",
    "              optimizer=keras.optimizers.SGD(learning_rate=1e-3),\n",
    "              metrics=[\"accuracy\"])"
   ]
  },
  {
   "cell_type": "code",
   "execution_count": 32,
   "id": "eb8093c8",
   "metadata": {},
   "outputs": [
    {
     "name": "stdout",
     "output_type": "stream",
     "text": [
      "Epoch 1/10\n",
      "1719/1719 [==============================] - 3s 1ms/step - loss: 1.0317 - accuracy: 0.6756 - val_loss: 0.6767 - val_accuracy: 0.7816\n",
      "Epoch 2/10\n",
      "1719/1719 [==============================] - 2s 1ms/step - loss: 0.6790 - accuracy: 0.7793 - val_loss: 0.5565 - val_accuracy: 0.8178\n",
      "Epoch 3/10\n",
      "1719/1719 [==============================] - 2s 1ms/step - loss: 0.5960 - accuracy: 0.8037 - val_loss: 0.5007 - val_accuracy: 0.8360\n",
      "Epoch 4/10\n",
      "1719/1719 [==============================] - 2s 1ms/step - loss: 0.5447 - accuracy: 0.8193 - val_loss: 0.4666 - val_accuracy: 0.8452\n",
      "Epoch 5/10\n",
      "1719/1719 [==============================] - 2s 1ms/step - loss: 0.5109 - accuracy: 0.8280 - val_loss: 0.4433 - val_accuracy: 0.8532\n",
      "Epoch 6/10\n",
      "1719/1719 [==============================] - 2s 1ms/step - loss: 0.4898 - accuracy: 0.8337 - val_loss: 0.4263 - val_accuracy: 0.8540\n",
      "Epoch 7/10\n",
      "1719/1719 [==============================] - 2s 1ms/step - loss: 0.4712 - accuracy: 0.8396 - val_loss: 0.4130 - val_accuracy: 0.8568\n",
      "Epoch 8/10\n",
      "1719/1719 [==============================] - 2s 1ms/step - loss: 0.4560 - accuracy: 0.8441 - val_loss: 0.4034 - val_accuracy: 0.8610\n",
      "Epoch 9/10\n",
      "1719/1719 [==============================] - 2s 1ms/step - loss: 0.4441 - accuracy: 0.8475 - val_loss: 0.3942 - val_accuracy: 0.8640\n",
      "Epoch 10/10\n",
      "1719/1719 [==============================] - 2s 1ms/step - loss: 0.4333 - accuracy: 0.8504 - val_loss: 0.3874 - val_accuracy: 0.8660\n"
     ]
    }
   ],
   "source": [
    "history = model.fit(X_Train, y_Train, epochs=10,\n",
    "                    validation_data=(X_Valid, y_Valid))\n",
    "                    "
   ]
  },
  {
   "cell_type": "markdown",
   "id": "589cac07",
   "metadata": {},
   "source": [
    "## 그래디언트 클리핑"
   ]
  },
  {
   "cell_type": "markdown",
   "id": "d739befa",
   "metadata": {},
   "source": [
    "역전파 될 떄 일정 임곗값을 넘어가지 못하게 그래디언트를 잘라내는 것  \n",
    "옵티마이저에 `clipnorm` 이나 `clipvalue` 매개변수 지정"
   ]
  },
  {
   "cell_type": "code",
   "execution_count": 33,
   "id": "e4707386",
   "metadata": {},
   "outputs": [],
   "source": [
    "optimizer = keras.optimizers.SGD(clipvalue=1.0)"
   ]
  },
  {
   "cell_type": "code",
   "execution_count": 34,
   "id": "939603e8",
   "metadata": {},
   "outputs": [],
   "source": [
    "optimizer = keras.optimizers.SGD(clipnorm=1.0)"
   ]
  },
  {
   "cell_type": "markdown",
   "id": "62fcafde",
   "metadata": {},
   "source": [
    "## 사전 훈련된 층 재사용"
   ]
  },
  {
   "cell_type": "markdown",
   "id": "963d1666",
   "metadata": {},
   "source": [
    "전이학습 : 재사용하는 층을 동결, 재학습할 은닉층의 동결 해제 -> 학습!"
   ]
  },
  {
   "cell_type": "markdown",
   "id": "5d187174",
   "metadata": {},
   "source": [
    "패션 MNIST 훈련 세트를 두 개로 나누어 보죠:\n",
    "* `X_train_A`: 샌달과 셔츠(클래스 5와 6)을 제외한 모든 이미지\n",
    "* `X_train_B`: 샌달과 셔츠 이미지 중 처음 200개만 가진 작은 훈련 세트\n",
    "\n",
    "검증 세트와 테스트 세트도 이렇게 나눕니다. 하지만 이미지 개수는 제한하지 않습니다.\n",
    "\n",
    "A 세트(8개의 클래스를 가진 분류 문제)에서 모델을 훈련하고 이를 재사용하여 B 세트(이진 분류)를 해결해 보겠습니다. A 작업에서 B 작업으로 약간의 지식이 전달되기를 기대합니다.  \n",
    "왜냐하면 A 세트의 클래스(스니커즈, 앵클 부츠, 코트, 티셔츠 등)가 B 세트에 있는 클래스(샌달과 셔츠)와 조금 비슷하기 때문입니다.  \n",
    "하지만 `Dense` 층을 사용하기 때문에 동일한 위치에 나타난 패턴만 재사용할 수 있습니다.  (반대로 합성곱 층은 훨씬 많은 정보를 전송합니다. 학습한 패턴을 이미지의 어느 위치에서나 감지할 수 있기 때문입니다. CNN 장에서 자세히 알아 보겠습니다)."
   ]
  },
  {
   "cell_type": "code",
   "execution_count": 35,
   "id": "5021d6e2",
   "metadata": {},
   "outputs": [],
   "source": [
    "def split_dataset(X, y):\n",
    "    y_5_or_6 = (y==5) | (y==6) # sandals or shirts\n",
    "    y_A = y[~y_5_or_6]\n",
    "    y_A[y_A > 6] -= 2 # class indices 7, 8, 9 should be moved to 5, 6, 7\n",
    "    y_B = (y[y_5_or_6] == 6).astype(np.float32) # binary classification task: is it a shirt (class 6)?\n",
    "    return ((X[~y_5_or_6], y_A),\n",
    "            (X[y_5_or_6], y_B))"
   ]
  },
  {
   "cell_type": "code",
   "execution_count": 41,
   "id": "2337009f",
   "metadata": {},
   "outputs": [],
   "source": [
    "(X_train_A, y_train_A), (X_train_B, y_train_B) = split_dataset(X_Train, y_Train)\n",
    "(X_valid_A, y_valid_A), (X_valid_B, y_valid_B) = split_dataset(X_Valid, y_Valid)\n",
    "(X_test_A, y_test_A), (X_test_B, y_test_B) = split_dataset(X_Test, y_Test)\n",
    "X_train_B = X_train_B[:200]\n",
    "y_train_B = y_train_B[:200]"
   ]
  },
  {
   "cell_type": "code",
   "execution_count": 42,
   "id": "0af6b994",
   "metadata": {},
   "outputs": [
    {
     "data": {
      "text/plain": [
       "(43986, 28, 28)"
      ]
     },
     "execution_count": 42,
     "metadata": {},
     "output_type": "execute_result"
    }
   ],
   "source": [
    "X_train_A.shape"
   ]
  },
  {
   "cell_type": "code",
   "execution_count": 43,
   "id": "aa20989a",
   "metadata": {},
   "outputs": [
    {
     "data": {
      "text/plain": [
       "(200, 28, 28)"
      ]
     },
     "execution_count": 43,
     "metadata": {},
     "output_type": "execute_result"
    }
   ],
   "source": [
    "X_train_B.shape"
   ]
  },
  {
   "cell_type": "code",
   "execution_count": 44,
   "id": "cfc00a34",
   "metadata": {},
   "outputs": [
    {
     "data": {
      "text/plain": [
       "array([4, 0, 5, 7, 7, 7, 4, 4, 3, 4, 0, 1, 6, 3, 4, 3, 2, 6, 5, 3, 4, 5,\n",
       "       1, 3, 4, 2, 0, 6, 7, 1], dtype=uint8)"
      ]
     },
     "execution_count": 44,
     "metadata": {},
     "output_type": "execute_result"
    }
   ],
   "source": [
    "y_train_A[:30]"
   ]
  },
  {
   "cell_type": "code",
   "execution_count": 45,
   "id": "86a92c67",
   "metadata": {},
   "outputs": [
    {
     "data": {
      "text/plain": [
       "array([1., 1., 0., 0., 0., 0., 1., 1., 1., 0., 0., 1., 1., 0., 0., 0., 0.,\n",
       "       0., 0., 1., 1., 0., 0., 1., 1., 0., 1., 1., 1., 1.], dtype=float32)"
      ]
     },
     "execution_count": 45,
     "metadata": {},
     "output_type": "execute_result"
    }
   ],
   "source": [
    "y_train_B[:30]"
   ]
  },
  {
   "cell_type": "code",
   "execution_count": 46,
   "id": "07ca4ac0",
   "metadata": {},
   "outputs": [],
   "source": [
    "tf.random.set_seed(42)\n",
    "np.random.seed(42)"
   ]
  },
  {
   "cell_type": "code",
   "execution_count": 47,
   "id": "dc0ed9e4",
   "metadata": {},
   "outputs": [],
   "source": [
    "model_A = keras.models.Sequential()\n",
    "model_A.add(keras.layers.Flatten(input_shape=[28, 28]))\n",
    "for n_hidden in (300, 100, 50, 50, 50):\n",
    "    model_A.add(keras.layers.Dense(n_hidden, activation='selu'))\n",
    "model_A.add(keras.layers.Dense(8, activation=\"softmax\"))"
   ]
  },
  {
   "cell_type": "code",
   "execution_count": 48,
   "id": "64e0e1b1",
   "metadata": {},
   "outputs": [
    {
     "name": "stdout",
     "output_type": "stream",
     "text": [
      "Model: \"sequential_5\"\n",
      "_________________________________________________________________\n",
      " Layer (type)                Output Shape              Param #   \n",
      "=================================================================\n",
      " flatten_5 (Flatten)         (None, 784)               0         \n",
      "                                                                 \n",
      " dense_213 (Dense)           (None, 300)               235500    \n",
      "                                                                 \n",
      " dense_214 (Dense)           (None, 100)               30100     \n",
      "                                                                 \n",
      " dense_215 (Dense)           (None, 50)                5050      \n",
      "                                                                 \n",
      " dense_216 (Dense)           (None, 50)                2550      \n",
      "                                                                 \n",
      " dense_217 (Dense)           (None, 50)                2550      \n",
      "                                                                 \n",
      " dense_218 (Dense)           (None, 8)                 408       \n",
      "                                                                 \n",
      "=================================================================\n",
      "Total params: 276,158\n",
      "Trainable params: 276,158\n",
      "Non-trainable params: 0\n",
      "_________________________________________________________________\n"
     ]
    }
   ],
   "source": [
    "model_A.summary()"
   ]
  },
  {
   "cell_type": "code",
   "execution_count": 52,
   "id": "7a02916c",
   "metadata": {},
   "outputs": [],
   "source": [
    "model_A.compile(loss=\"sparse_categorical_crossentropy\",\n",
    "                optimizer=keras.optimizers.SGD(learning_rate=1e-3),\n",
    "                metrics=[\"accuracy\"])"
   ]
  },
  {
   "cell_type": "code",
   "execution_count": 53,
   "id": "81e329cb",
   "metadata": {},
   "outputs": [
    {
     "name": "stdout",
     "output_type": "stream",
     "text": [
      "Epoch 1/20\n",
      "1375/1375 [==============================] - 2s 1ms/step - loss: 0.2137 - accuracy: 0.9262 - val_loss: 0.2434 - val_accuracy: 0.9138\n",
      "Epoch 2/20\n",
      "1375/1375 [==============================] - 1s 1ms/step - loss: 0.2112 - accuracy: 0.9271 - val_loss: 0.2309 - val_accuracy: 0.9220\n",
      "Epoch 3/20\n",
      "1375/1375 [==============================] - 1s 1ms/step - loss: 0.2091 - accuracy: 0.9281 - val_loss: 0.2267 - val_accuracy: 0.9228\n",
      "Epoch 4/20\n",
      "1375/1375 [==============================] - 1s 1ms/step - loss: 0.2076 - accuracy: 0.9287 - val_loss: 0.2263 - val_accuracy: 0.9235\n",
      "Epoch 5/20\n",
      "1375/1375 [==============================] - 1s 1ms/step - loss: 0.2055 - accuracy: 0.9289 - val_loss: 0.2280 - val_accuracy: 0.9220\n",
      "Epoch 6/20\n",
      "1375/1375 [==============================] - 1s 1ms/step - loss: 0.2038 - accuracy: 0.9300 - val_loss: 0.2270 - val_accuracy: 0.9235\n",
      "Epoch 7/20\n",
      "1375/1375 [==============================] - 1s 1ms/step - loss: 0.2018 - accuracy: 0.9301 - val_loss: 0.2294 - val_accuracy: 0.9225\n",
      "Epoch 8/20\n",
      "1375/1375 [==============================] - 1s 1ms/step - loss: 0.2001 - accuracy: 0.9305 - val_loss: 0.2251 - val_accuracy: 0.9218\n",
      "Epoch 9/20\n",
      "1375/1375 [==============================] - 1s 1ms/step - loss: 0.1988 - accuracy: 0.9314 - val_loss: 0.2237 - val_accuracy: 0.9235\n",
      "Epoch 10/20\n",
      "1375/1375 [==============================] - 1s 1ms/step - loss: 0.1971 - accuracy: 0.9316 - val_loss: 0.2259 - val_accuracy: 0.9240\n",
      "Epoch 11/20\n",
      "1375/1375 [==============================] - 1s 1ms/step - loss: 0.1954 - accuracy: 0.9327 - val_loss: 0.2237 - val_accuracy: 0.9225\n",
      "Epoch 12/20\n",
      "1375/1375 [==============================] - 1s 1ms/step - loss: 0.1938 - accuracy: 0.9326 - val_loss: 0.2282 - val_accuracy: 0.9223\n",
      "Epoch 13/20\n",
      "1375/1375 [==============================] - 1s 1ms/step - loss: 0.1928 - accuracy: 0.9327 - val_loss: 0.2187 - val_accuracy: 0.9260\n",
      "Epoch 14/20\n",
      "1375/1375 [==============================] - 1s 1ms/step - loss: 0.1910 - accuracy: 0.9343 - val_loss: 0.2174 - val_accuracy: 0.9245\n",
      "Epoch 15/20\n",
      "1375/1375 [==============================] - 1s 1ms/step - loss: 0.1898 - accuracy: 0.9350 - val_loss: 0.2237 - val_accuracy: 0.9225\n",
      "Epoch 16/20\n",
      "1375/1375 [==============================] - 1s 1ms/step - loss: 0.1879 - accuracy: 0.9350 - val_loss: 0.2167 - val_accuracy: 0.9265\n",
      "Epoch 17/20\n",
      "1375/1375 [==============================] - 1s 1ms/step - loss: 0.1867 - accuracy: 0.9356 - val_loss: 0.2204 - val_accuracy: 0.9280\n",
      "Epoch 18/20\n",
      "1375/1375 [==============================] - 1s 1ms/step - loss: 0.1848 - accuracy: 0.9356 - val_loss: 0.2220 - val_accuracy: 0.9240\n",
      "Epoch 19/20\n",
      "1375/1375 [==============================] - 1s 1ms/step - loss: 0.1836 - accuracy: 0.9367 - val_loss: 0.2153 - val_accuracy: 0.9278\n",
      "Epoch 20/20\n",
      "1375/1375 [==============================] - 1s 1ms/step - loss: 0.1823 - accuracy: 0.9370 - val_loss: 0.2152 - val_accuracy: 0.9265\n"
     ]
    }
   ],
   "source": [
    "history = model_A.fit(X_train_A, y_train_A, epochs=20,\n",
    "                    validation_data=(X_valid_A, y_valid_A))"
   ]
  },
  {
   "cell_type": "code",
   "execution_count": 54,
   "id": "9ab74064",
   "metadata": {},
   "outputs": [],
   "source": [
    "model_A.save(\"model/my_model_A.h5\")"
   ]
  },
  {
   "cell_type": "code",
   "execution_count": 55,
   "id": "bc2b2934",
   "metadata": {},
   "outputs": [],
   "source": [
    "model_B = keras.models.Sequential()\n",
    "model_B.add(keras.layers.Flatten(input_shape=[28, 28]))\n",
    "for n_hidden in (300, 100, 50, 50, 50):\n",
    "    model_B.add(keras.layers.Dense(n_hidden, activation=\"selu\"))\n",
    "model_B.add(keras.layers.Dense(1, activation=\"sigmoid\"))"
   ]
  },
  {
   "cell_type": "code",
   "execution_count": 56,
   "id": "e39609ef",
   "metadata": {},
   "outputs": [],
   "source": [
    "model_B.compile(loss=\"binary_crossentropy\",\n",
    "                optimizer=keras.optimizers.SGD(learning_rate=1e-3),\n",
    "                metrics=[\"accuracy\"])"
   ]
  },
  {
   "cell_type": "code",
   "execution_count": 58,
   "id": "212d67b2",
   "metadata": {},
   "outputs": [
    {
     "name": "stdout",
     "output_type": "stream",
     "text": [
      "Model: \"sequential_6\"\n",
      "_________________________________________________________________\n",
      " Layer (type)                Output Shape              Param #   \n",
      "=================================================================\n",
      " flatten_6 (Flatten)         (None, 784)               0         \n",
      "                                                                 \n",
      " dense_219 (Dense)           (None, 300)               235500    \n",
      "                                                                 \n",
      " dense_220 (Dense)           (None, 100)               30100     \n",
      "                                                                 \n",
      " dense_221 (Dense)           (None, 50)                5050      \n",
      "                                                                 \n",
      " dense_222 (Dense)           (None, 50)                2550      \n",
      "                                                                 \n",
      " dense_223 (Dense)           (None, 50)                2550      \n",
      "                                                                 \n",
      " dense_224 (Dense)           (None, 1)                 51        \n",
      "                                                                 \n",
      "=================================================================\n",
      "Total params: 275,801\n",
      "Trainable params: 275,801\n",
      "Non-trainable params: 0\n",
      "_________________________________________________________________\n"
     ]
    }
   ],
   "source": [
    "model_B.summary()"
   ]
  },
  {
   "cell_type": "code",
   "execution_count": 57,
   "id": "3e94a27d",
   "metadata": {},
   "outputs": [
    {
     "name": "stdout",
     "output_type": "stream",
     "text": [
      "Epoch 1/20\n",
      "7/7 [==============================] - 0s 17ms/step - loss: 0.9573 - accuracy: 0.4650 - val_loss: 0.6311 - val_accuracy: 0.6004\n",
      "Epoch 2/20\n",
      "7/7 [==============================] - 0s 6ms/step - loss: 0.5692 - accuracy: 0.7500 - val_loss: 0.4784 - val_accuracy: 0.8540\n",
      "Epoch 3/20\n",
      "7/7 [==============================] - 0s 6ms/step - loss: 0.4503 - accuracy: 0.8650 - val_loss: 0.4102 - val_accuracy: 0.8945\n",
      "Epoch 4/20\n",
      "7/7 [==============================] - 0s 6ms/step - loss: 0.3879 - accuracy: 0.8950 - val_loss: 0.3647 - val_accuracy: 0.9178\n",
      "Epoch 5/20\n",
      "7/7 [==============================] - 0s 6ms/step - loss: 0.3434 - accuracy: 0.9250 - val_loss: 0.3300 - val_accuracy: 0.9310\n",
      "Epoch 6/20\n",
      "7/7 [==============================] - 0s 6ms/step - loss: 0.3081 - accuracy: 0.9300 - val_loss: 0.3020 - val_accuracy: 0.9402\n",
      "Epoch 7/20\n",
      "7/7 [==============================] - 0s 6ms/step - loss: 0.2801 - accuracy: 0.9350 - val_loss: 0.2804 - val_accuracy: 0.9422\n",
      "Epoch 8/20\n",
      "7/7 [==============================] - 0s 7ms/step - loss: 0.2564 - accuracy: 0.9450 - val_loss: 0.2607 - val_accuracy: 0.9473\n",
      "Epoch 9/20\n",
      "7/7 [==============================] - 0s 6ms/step - loss: 0.2363 - accuracy: 0.9550 - val_loss: 0.2428 - val_accuracy: 0.9523\n",
      "Epoch 10/20\n",
      "7/7 [==============================] - 0s 6ms/step - loss: 0.2188 - accuracy: 0.9600 - val_loss: 0.2281 - val_accuracy: 0.9544\n",
      "Epoch 11/20\n",
      "7/7 [==============================] - 0s 6ms/step - loss: 0.2036 - accuracy: 0.9700 - val_loss: 0.2150 - val_accuracy: 0.9584\n",
      "Epoch 12/20\n",
      "7/7 [==============================] - 0s 6ms/step - loss: 0.1897 - accuracy: 0.9750 - val_loss: 0.2036 - val_accuracy: 0.9584\n",
      "Epoch 13/20\n",
      "7/7 [==============================] - 0s 6ms/step - loss: 0.1772 - accuracy: 0.9750 - val_loss: 0.1931 - val_accuracy: 0.9615\n",
      "Epoch 14/20\n",
      "7/7 [==============================] - 0s 6ms/step - loss: 0.1668 - accuracy: 0.9800 - val_loss: 0.1837 - val_accuracy: 0.9635\n",
      "Epoch 15/20\n",
      "7/7 [==============================] - 0s 6ms/step - loss: 0.1570 - accuracy: 0.9900 - val_loss: 0.1746 - val_accuracy: 0.9686\n",
      "Epoch 16/20\n",
      "7/7 [==============================] - 0s 6ms/step - loss: 0.1481 - accuracy: 0.9900 - val_loss: 0.1674 - val_accuracy: 0.9686\n",
      "Epoch 17/20\n",
      "7/7 [==============================] - 0s 6ms/step - loss: 0.1406 - accuracy: 0.9900 - val_loss: 0.1604 - val_accuracy: 0.9706\n",
      "Epoch 18/20\n",
      "7/7 [==============================] - 0s 6ms/step - loss: 0.1334 - accuracy: 0.9900 - val_loss: 0.1539 - val_accuracy: 0.9706\n",
      "Epoch 19/20\n",
      "7/7 [==============================] - 0s 6ms/step - loss: 0.1268 - accuracy: 0.9900 - val_loss: 0.1483 - val_accuracy: 0.9716\n",
      "Epoch 20/20\n",
      "7/7 [==============================] - 0s 6ms/step - loss: 0.1208 - accuracy: 0.9900 - val_loss: 0.1432 - val_accuracy: 0.9716\n"
     ]
    }
   ],
   "source": [
    "history = model_B.fit(X_train_B, y_train_B, epochs=20,\n",
    "                      validation_data=(X_valid_B, y_valid_B))"
   ]
  },
  {
   "cell_type": "code",
   "execution_count": 60,
   "id": "6e270bfd",
   "metadata": {},
   "outputs": [],
   "source": [
    "#model_A = keras.models.load_model(\"model/my_model_A.h5\")\n",
    "#model_B_on_A = keras.models.Sequential(model_A.layers[:-1])\n",
    "#model_B_on_A.add(keras.layers.Dense(1, activation=\"sigmoid\"))"
   ]
  },
  {
   "cell_type": "markdown",
   "id": "8931cacb",
   "metadata": {},
   "source": [
    "model_B_on_A와 model_A는 층을 공유하기 때문에 하나를 훈련하면 두 모델이 업데이트됩니다. 이를 피하려면 model_A를 클론한 것을 사용해 model_B_on_A를 만들어야 합니다:"
   ]
  },
  {
   "cell_type": "code",
   "execution_count": 72,
   "id": "c547b87b",
   "metadata": {},
   "outputs": [],
   "source": [
    "model_A = keras.models.load_model(\"model/my_model_A.h5\")\n",
    "model_A_clone = keras.models.clone_model(model_A)\n",
    "model_A_clone.set_weights(model_A.get_weights())\n",
    "model_B_on_A = keras.models.Sequential(model_A_clone.layers[:-1])\n",
    "model_B_on_A.add(keras.layers.Dense(1, activation=\"sigmoid\"))"
   ]
  },
  {
   "cell_type": "markdown",
   "id": "838bd388",
   "metadata": {},
   "source": [
    "새로운 출력층이 랜덤하게 초기화 되므로 초기의 에포크 동안 큰 오차 생성 -> 재사용된 가중치를 망칠 수 있다.  \n",
    "이를 피하기 위해 처음 몇 번의 에포크 동안 재사용된 층을 동결하고 새로운 층이 적절한 가중치를 학습하게 한다. -> 재사용 층 모두 동결"
   ]
  },
  {
   "cell_type": "code",
   "execution_count": 81,
   "id": "377e89fa",
   "metadata": {},
   "outputs": [
    {
     "name": "stdout",
     "output_type": "stream",
     "text": [
      "Epoch 1/4\n",
      "7/7 [==============================] - 0s 17ms/step - loss: 0.0477 - accuracy: 0.9900 - val_loss: 0.0715 - val_accuracy: 0.9878\n",
      "Epoch 2/4\n",
      "7/7 [==============================] - 0s 6ms/step - loss: 0.0474 - accuracy: 0.9900 - val_loss: 0.0711 - val_accuracy: 0.9878\n",
      "Epoch 3/4\n",
      "7/7 [==============================] - 0s 6ms/step - loss: 0.0470 - accuracy: 0.9900 - val_loss: 0.0707 - val_accuracy: 0.9878\n",
      "Epoch 4/4\n",
      "7/7 [==============================] - 0s 6ms/step - loss: 0.0467 - accuracy: 0.9900 - val_loss: 0.0704 - val_accuracy: 0.9878\n"
     ]
    }
   ],
   "source": [
    "# 4에포크 동안 재사용 층 동결하여 학습\n",
    "for layer in model_B_on_A.layers[:-1]:\n",
    "    layer.trainable = False\n",
    "model_B_on_A.compile(loss=\"binary_crossentropy\",\n",
    "                     optimizer=keras.optimizers.SGD(learning_rate=1e-3),\n",
    "                     metrics=[\"accuracy\"])\n",
    "\n",
    "history = model_B_on_A.fit(X_train_B, y_train_B, epochs=4,\n",
    "                           validation_data=(X_valid_B, y_valid_B))"
   ]
  },
  {
   "cell_type": "code",
   "execution_count": 82,
   "id": "9ec6efeb",
   "metadata": {},
   "outputs": [
    {
     "name": "stdout",
     "output_type": "stream",
     "text": [
      "Epoch 1/16\n",
      "7/7 [==============================] - 0s 17ms/step - loss: 0.0464 - accuracy: 0.9900 - val_loss: 0.0702 - val_accuracy: 0.9878\n",
      "Epoch 2/16\n",
      "7/7 [==============================] - 0s 13ms/step - loss: 0.0462 - accuracy: 0.9900 - val_loss: 0.0700 - val_accuracy: 0.9878\n",
      "Epoch 3/16\n",
      "7/7 [==============================] - 0s 8ms/step - loss: 0.0460 - accuracy: 0.9950 - val_loss: 0.0697 - val_accuracy: 0.9888\n",
      "Epoch 4/16\n",
      "7/7 [==============================] - 0s 6ms/step - loss: 0.0458 - accuracy: 0.9950 - val_loss: 0.0695 - val_accuracy: 0.9888\n",
      "Epoch 5/16\n",
      "7/7 [==============================] - 0s 6ms/step - loss: 0.0456 - accuracy: 0.9950 - val_loss: 0.0693 - val_accuracy: 0.9888\n",
      "Epoch 6/16\n",
      "7/7 [==============================] - 0s 6ms/step - loss: 0.0454 - accuracy: 0.9950 - val_loss: 0.0691 - val_accuracy: 0.9888\n",
      "Epoch 7/16\n",
      "7/7 [==============================] - 0s 6ms/step - loss: 0.0452 - accuracy: 0.9950 - val_loss: 0.0689 - val_accuracy: 0.9888\n",
      "Epoch 8/16\n",
      "7/7 [==============================] - 0s 6ms/step - loss: 0.0450 - accuracy: 0.9950 - val_loss: 0.0687 - val_accuracy: 0.9888\n",
      "Epoch 9/16\n",
      "7/7 [==============================] - 0s 6ms/step - loss: 0.0448 - accuracy: 0.9950 - val_loss: 0.0685 - val_accuracy: 0.9888\n",
      "Epoch 10/16\n",
      "7/7 [==============================] - 0s 6ms/step - loss: 0.0446 - accuracy: 0.9950 - val_loss: 0.0683 - val_accuracy: 0.9888\n",
      "Epoch 11/16\n",
      "7/7 [==============================] - 0s 6ms/step - loss: 0.0444 - accuracy: 0.9950 - val_loss: 0.0681 - val_accuracy: 0.9888\n",
      "Epoch 12/16\n",
      "7/7 [==============================] - 0s 6ms/step - loss: 0.0442 - accuracy: 0.9950 - val_loss: 0.0679 - val_accuracy: 0.9888\n",
      "Epoch 13/16\n",
      "7/7 [==============================] - 0s 6ms/step - loss: 0.0440 - accuracy: 0.9950 - val_loss: 0.0677 - val_accuracy: 0.9888\n",
      "Epoch 14/16\n",
      "7/7 [==============================] - 0s 6ms/step - loss: 0.0438 - accuracy: 0.9950 - val_loss: 0.0675 - val_accuracy: 0.9888\n",
      "Epoch 15/16\n",
      "7/7 [==============================] - 0s 6ms/step - loss: 0.0436 - accuracy: 0.9950 - val_loss: 0.0673 - val_accuracy: 0.9888\n",
      "Epoch 16/16\n",
      "7/7 [==============================] - 0s 6ms/step - loss: 0.0434 - accuracy: 0.9950 - val_loss: 0.0672 - val_accuracy: 0.9888\n"
     ]
    }
   ],
   "source": [
    "# 초기 학습 이후 재사용층 동결 해체, 학습률 낮춰 학습\n",
    "for layer in model_B_on_A.layers[:-1]:\n",
    "    layer.trainable = True\n",
    "\n",
    "# optimizer 기본 학습률 : 1e-2\n",
    "model_B_on_A.compile(loss=\"binary_crossentropy\",\n",
    "                     optimizer=keras.optimizers.SGD(learning_rate=1e-4),\n",
    "                     metrics=[\"accuracy\"])\n",
    "history = model_B_on_A.fit(X_train_B, y_train_B, epochs=16,\n",
    "                           validation_data=(X_valid_B, y_valid_B))"
   ]
  },
  {
   "cell_type": "code",
   "execution_count": 83,
   "id": "242a52f2",
   "metadata": {},
   "outputs": [
    {
     "name": "stdout",
     "output_type": "stream",
     "text": [
      "63/63 [==============================] - 0s 765us/step - loss: 0.1409 - accuracy: 0.9705\n"
     ]
    },
    {
     "data": {
      "text/plain": [
       "[0.14087168872356415, 0.9704999923706055]"
      ]
     },
     "execution_count": 83,
     "metadata": {},
     "output_type": "execute_result"
    }
   ],
   "source": [
    "model_B.evaluate(X_test_B, y_test_B)"
   ]
  },
  {
   "cell_type": "code",
   "execution_count": 84,
   "id": "1b5badc5",
   "metadata": {},
   "outputs": [
    {
     "name": "stdout",
     "output_type": "stream",
     "text": [
      "63/63 [==============================] - 0s 804us/step - loss: 0.0573 - accuracy: 0.9920\n"
     ]
    },
    {
     "data": {
      "text/plain": [
       "[0.05728994682431221, 0.9919999837875366]"
      ]
     },
     "execution_count": 84,
     "metadata": {},
     "output_type": "execute_result"
    }
   ],
   "source": [
    "model_B_on_A.evaluate(X_test_B, y_test_B)"
   ]
  },
  {
   "cell_type": "markdown",
   "id": "33d739fe",
   "metadata": {},
   "source": [
    "# 고속 옵티마이저"
   ]
  },
  {
   "cell_type": "markdown",
   "id": "6b8bfc40",
   "metadata": {},
   "source": [
    "## 모멘텀 옵티마이저"
   ]
  },
  {
   "cell_type": "code",
   "execution_count": 85,
   "id": "a59176cc",
   "metadata": {},
   "outputs": [],
   "source": [
    "optimizer = keras.optimizers.SGD(learning_rate=0.001, momentum=0.9)"
   ]
  },
  {
   "cell_type": "markdown",
   "id": "4d2079a1",
   "metadata": {},
   "source": [
    "## 네스테로프 가속 경사"
   ]
  },
  {
   "cell_type": "code",
   "execution_count": 86,
   "id": "4aeb07f8",
   "metadata": {},
   "outputs": [],
   "source": [
    "optimizer = keras.optimizers.SGD(learning_rate=0.001, momentum=0.9, nesterov=True)"
   ]
  },
  {
   "cell_type": "markdown",
   "id": "72a80662",
   "metadata": {},
   "source": [
    "## AdaGrad\n"
   ]
  },
  {
   "cell_type": "code",
   "execution_count": 87,
   "id": "aa205181",
   "metadata": {},
   "outputs": [],
   "source": [
    "optimizer = keras.optimizers.Adagrad(learning_rate=0.001)"
   ]
  },
  {
   "cell_type": "markdown",
   "id": "e6761ef0",
   "metadata": {},
   "source": [
    "## RMSProp\n"
   ]
  },
  {
   "cell_type": "code",
   "execution_count": 88,
   "id": "48ab4436",
   "metadata": {},
   "outputs": [],
   "source": [
    "optimizer = keras.optimizers.RMSprop(learning_rate=0.001, rho=0.9)"
   ]
  },
  {
   "cell_type": "markdown",
   "id": "1102a018",
   "metadata": {},
   "source": [
    "## Adam 옵티마이저"
   ]
  },
  {
   "cell_type": "markdown",
   "id": "1a38dc04",
   "metadata": {},
   "source": [
    "적응적 모멘트 추정 (Adaptive Moment Estimation) : 모멘텀 최적화 + RMSProp"
   ]
  },
  {
   "cell_type": "code",
   "execution_count": 89,
   "id": "6a99ad33",
   "metadata": {},
   "outputs": [],
   "source": [
    "optimizer = keras.optimizers.Adam(learning_rate=0.001, beta_1=0.9, beta_2=0.999)"
   ]
  },
  {
   "cell_type": "markdown",
   "id": "6479a8bf",
   "metadata": {},
   "source": [
    "## Adamax 옵티마이저"
   ]
  },
  {
   "cell_type": "code",
   "execution_count": 90,
   "id": "d4c047e6",
   "metadata": {},
   "outputs": [],
   "source": [
    "optimizer = keras.optimizers.Adamax(learning_rate=0.001, beta_1=0.9, beta_2=0.999)"
   ]
  },
  {
   "cell_type": "markdown",
   "id": "84cdce97",
   "metadata": {},
   "source": [
    "## Nadam 옵티마이저\n"
   ]
  },
  {
   "cell_type": "markdown",
   "id": "b0617bbc",
   "metadata": {},
   "source": [
    "Adam + 네스테로프 기법"
   ]
  },
  {
   "cell_type": "code",
   "execution_count": 91,
   "id": "a3f5d355",
   "metadata": {},
   "outputs": [],
   "source": [
    "optimizer = keras.optimizers.Nadam(learning_rate=0.001, beta_1=0.9, beta_2=0.999)"
   ]
  },
  {
   "cell_type": "markdown",
   "id": "135bf46f",
   "metadata": {},
   "source": [
    "## 학습률 스케줄링"
   ]
  },
  {
   "cell_type": "markdown",
   "id": "9ee2079f",
   "metadata": {},
   "source": [
    "학습률을 너무 크게 잡으면 발산, 너무 작게 잡으면 최적점에 수렴하는데 너무 오랜 시간 소요  \n",
    "\n",
    "큰 학습률로 시작하고 학습 속도가 느려질 때 학습률을 낮추면 최적의 고정 학습률보다 좋은 솔루션을 빨리 발견할 수 있다.  \n",
    "\n",
    "학습률 스케줄링 : 훈련하는 동안 학습률을 감소시키는 전략!"
   ]
  },
  {
   "cell_type": "markdown",
   "id": "09d99353",
   "metadata": {},
   "source": [
    "### 거듭제곱 스케줄링"
   ]
  },
  {
   "cell_type": "markdown",
   "id": "5ea7d35c",
   "metadata": {},
   "source": [
    "```lr = lr0 / (1 + steps / s)**c```\n",
    "* 케라스는 `c=1`과 `s = 1 / decay`을 사용합니다"
   ]
  },
  {
   "cell_type": "code",
   "execution_count": 92,
   "id": "0025b469",
   "metadata": {},
   "outputs": [],
   "source": [
    "optimizer = keras.optimizers.SGD(learning_rate=0.01, decay=1e-4)"
   ]
  },
  {
   "cell_type": "code",
   "execution_count": 93,
   "id": "dd3c63da",
   "metadata": {},
   "outputs": [],
   "source": [
    "model = keras.models.Sequential([\n",
    "    keras.layers.Flatten(input_shape=[28,28]),\n",
    "    keras.layers.Dense(300, activation=\"selu\", kernel_initializer=\"lecun_normal\"),\n",
    "    keras.layers.Dense(100, activation=\"selu\", kernel_initializer=\"lecun_normal\"),\n",
    "    keras.layers.Dense(10, activation=\"softmax\")\n",
    "])\n",
    "model.compile(loss=\"sparse_categorical_crossentropy\", optimizer=optimizer, metrics=[\"accuracy\"])"
   ]
  },
  {
   "cell_type": "code",
   "execution_count": 97,
   "id": "9abbe478",
   "metadata": {},
   "outputs": [
    {
     "name": "stdout",
     "output_type": "stream",
     "text": [
      "Epoch 1/25\n",
      "1719/1719 [==============================] - 2s 936us/step - loss: 0.4893 - accuracy: 0.8282 - val_loss: 0.4011 - val_accuracy: 0.8646\n",
      "Epoch 2/25\n",
      "1719/1719 [==============================] - 2s 901us/step - loss: 0.3763 - accuracy: 0.8669 - val_loss: 0.3717 - val_accuracy: 0.8710\n",
      "Epoch 3/25\n",
      "1719/1719 [==============================] - 2s 903us/step - loss: 0.3438 - accuracy: 0.8777 - val_loss: 0.3747 - val_accuracy: 0.8706\n",
      "Epoch 4/25\n",
      "1719/1719 [==============================] - 2s 906us/step - loss: 0.3235 - accuracy: 0.8852 - val_loss: 0.3515 - val_accuracy: 0.8784\n",
      "Epoch 5/25\n",
      "1719/1719 [==============================] - 2s 896us/step - loss: 0.3090 - accuracy: 0.8904 - val_loss: 0.3427 - val_accuracy: 0.8802\n",
      "Epoch 6/25\n",
      "1719/1719 [==============================] - 2s 912us/step - loss: 0.2954 - accuracy: 0.8956 - val_loss: 0.3434 - val_accuracy: 0.8794\n",
      "Epoch 7/25\n",
      "1719/1719 [==============================] - 2s 904us/step - loss: 0.2858 - accuracy: 0.8992 - val_loss: 0.3381 - val_accuracy: 0.8804\n",
      "Epoch 8/25\n",
      "1719/1719 [==============================] - 2s 909us/step - loss: 0.2772 - accuracy: 0.9017 - val_loss: 0.3412 - val_accuracy: 0.8802\n",
      "Epoch 9/25\n",
      "1719/1719 [==============================] - 2s 907us/step - loss: 0.2692 - accuracy: 0.9027 - val_loss: 0.3328 - val_accuracy: 0.8818\n",
      "Epoch 10/25\n",
      "1719/1719 [==============================] - 2s 918us/step - loss: 0.2619 - accuracy: 0.9062 - val_loss: 0.3289 - val_accuracy: 0.8872\n",
      "Epoch 11/25\n",
      "1719/1719 [==============================] - 2s 907us/step - loss: 0.2566 - accuracy: 0.9079 - val_loss: 0.3300 - val_accuracy: 0.8858\n",
      "Epoch 12/25\n",
      "1719/1719 [==============================] - 2s 904us/step - loss: 0.2504 - accuracy: 0.9112 - val_loss: 0.3365 - val_accuracy: 0.8804\n",
      "Epoch 13/25\n",
      "1719/1719 [==============================] - 2s 911us/step - loss: 0.2452 - accuracy: 0.9136 - val_loss: 0.3273 - val_accuracy: 0.8870\n",
      "Epoch 14/25\n",
      "1719/1719 [==============================] - 2s 929us/step - loss: 0.2413 - accuracy: 0.9152 - val_loss: 0.3296 - val_accuracy: 0.8862\n",
      "Epoch 15/25\n",
      "1719/1719 [==============================] - 2s 926us/step - loss: 0.2364 - accuracy: 0.9165 - val_loss: 0.3266 - val_accuracy: 0.8850\n",
      "Epoch 16/25\n",
      "1719/1719 [==============================] - 2s 922us/step - loss: 0.2325 - accuracy: 0.9189 - val_loss: 0.3238 - val_accuracy: 0.8872\n",
      "Epoch 17/25\n",
      "1719/1719 [==============================] - 2s 919us/step - loss: 0.2290 - accuracy: 0.9199 - val_loss: 0.3265 - val_accuracy: 0.8882\n",
      "Epoch 18/25\n",
      "1719/1719 [==============================] - 2s 927us/step - loss: 0.2251 - accuracy: 0.9210 - val_loss: 0.3229 - val_accuracy: 0.8900\n",
      "Epoch 19/25\n",
      "1719/1719 [==============================] - 2s 924us/step - loss: 0.2220 - accuracy: 0.9235 - val_loss: 0.3262 - val_accuracy: 0.8862\n",
      "Epoch 20/25\n",
      "1719/1719 [==============================] - 2s 926us/step - loss: 0.2187 - accuracy: 0.9242 - val_loss: 0.3235 - val_accuracy: 0.8884\n",
      "Epoch 21/25\n",
      "1719/1719 [==============================] - 2s 931us/step - loss: 0.2154 - accuracy: 0.9254 - val_loss: 0.3244 - val_accuracy: 0.8882\n",
      "Epoch 22/25\n",
      "1719/1719 [==============================] - 2s 913us/step - loss: 0.2129 - accuracy: 0.9264 - val_loss: 0.3219 - val_accuracy: 0.8884\n",
      "Epoch 23/25\n",
      "1719/1719 [==============================] - 2s 915us/step - loss: 0.2101 - accuracy: 0.9270 - val_loss: 0.3226 - val_accuracy: 0.8880\n",
      "Epoch 24/25\n",
      "1719/1719 [==============================] - 2s 909us/step - loss: 0.2073 - accuracy: 0.9279 - val_loss: 0.3242 - val_accuracy: 0.8876\n",
      "Epoch 25/25\n",
      "1719/1719 [==============================] - 2s 905us/step - loss: 0.2054 - accuracy: 0.9288 - val_loss: 0.3225 - val_accuracy: 0.8896\n"
     ]
    }
   ],
   "source": [
    "n_epochs = 25\n",
    "history = model.fit(X_TrainScaled, y_Train, epochs=n_epochs,\n",
    "                    validation_data=(X_ValidScaled, y_Valid))"
   ]
  },
  {
   "cell_type": "code",
   "execution_count": 102,
   "id": "6ecebde9",
   "metadata": {},
   "outputs": [
    {
     "data": {
      "image/png": "[encoded data removed]",
      "text/plain": [
       "<Figure size 432x288 with 1 Axes>"
      ]
     },
     "metadata": {
      "needs_background": "light"
     },
     "output_type": "display_data"
    }
   ],
   "source": [
    "import math\n",
    "\n",
    "learning_rate = 0.01\n",
    "decay = 1e-4\n",
    "batch_size = 32\n",
    "n_steps_per_epoch = math.ceil(len(X_Train) / batch_size)\n",
    "epochs = np.arange(n_epochs)\n",
    "lrs = learning_rate / (1 + decay * epochs * n_steps_per_epoch)\n",
    "\n",
    "plt.plot(epochs, lrs,  \"o-\")\n",
    "plt.axis([0, n_epochs - 1, 0, 0.01])\n",
    "plt.xlabel(\"Epoch\")\n",
    "plt.ylabel(\"Learning Rate\")\n",
    "plt.title(\"Power Scheduling\", fontsize=14)\n",
    "plt.grid(True)\n",
    "plt.show()"
   ]
  },
  {
   "cell_type": "markdown",
   "id": "db350518",
   "metadata": {},
   "source": [
    "### 지수 기반 스케줄링\n"
   ]
  },
  {
   "cell_type": "markdown",
   "id": "fe084506",
   "metadata": {},
   "source": [
    "```lr = lr0 * 0.1**(epoch / s)```"
   ]
  },
  {
   "cell_type": "markdown",
   "id": "ecad896e",
   "metadata": {},
   "source": [
    "스케줄링 함수 -> LearningRateScheduler 콜백 -> fit 메서드  \n",
    "\n",
    "LearningRateScheduler : 에포크를 시작할 때마다 옵티마이저의 learning_rate 업데이트  \n",
    "\n"
   ]
  },
  {
   "cell_type": "code",
   "execution_count": 105,
   "id": "8cf20287",
   "metadata": {},
   "outputs": [],
   "source": [
    "# 현재 에포크를 받아 학습률을 반환하는 함수 \n",
    "# lr0 = 0.1, step = 20, 20epoch 마다 1/10씩 감소\n",
    "def exponential_decay_fn(epoch):\n",
    "    return 0.01 * 0.1**(epoch / 20)"
   ]
  },
  {
   "cell_type": "code",
   "execution_count": 106,
   "id": "46288cd0",
   "metadata": {},
   "outputs": [],
   "source": [
    "# lr0 와 s를 변수로 설정한 클로저를 반환하는 함수\n",
    "def exponential_decay(lr0, s):\n",
    "    def exponential_decay_fn(epoch):\n",
    "        return lr0 * 0.1**(epoch / s)\n",
    "    return exponential_decay_fn\n",
    "\n",
    "exponential_decay_fn = exponential_decay(lr0=0.01, s=20)"
   ]
  },
  {
   "cell_type": "code",
   "execution_count": 107,
   "id": "4369b250",
   "metadata": {},
   "outputs": [],
   "source": [
    "model = keras.models.Sequential([\n",
    "    keras.layers.Flatten(input_shape=[28,28]),\n",
    "    keras.layers.Dense(300, activation=\"selu\", kernel_initializer=\"lecun_normal\"),\n",
    "    keras.layers.Dense(100, activation=\"selu\", kernel_initializer=\"lecun_normal\"),\n",
    "    keras.layers.Dense(10, activation=\"softmax\")\n",
    "])\n",
    "model.compile(loss=\"sparse_categorical_crossentropy\", optimizer=\"nadam\", metrics=[\"accuracy\"])\n",
    "n_epochs = 25"
   ]
  },
  {
   "cell_type": "code",
   "execution_count": 109,
   "id": "cf6de024",
   "metadata": {},
   "outputs": [
    {
     "name": "stdout",
     "output_type": "stream",
     "text": [
      "Epoch 1/25\n",
      "1719/1719 [==============================] - 3s 1ms/step - loss: 0.8203 - accuracy: 0.7603 - val_loss: 0.9031 - val_accuracy: 0.7256 - lr: 0.0100\n",
      "Epoch 2/25\n",
      "1719/1719 [==============================] - 2s 1ms/step - loss: 0.7237 - accuracy: 0.7878 - val_loss: 0.6939 - val_accuracy: 0.8118 - lr: 0.0089\n",
      "Epoch 3/25\n",
      "1719/1719 [==============================] - 2s 1ms/step - loss: 0.6296 - accuracy: 0.8109 - val_loss: 0.5951 - val_accuracy: 0.8314 - lr: 0.0079\n",
      "Epoch 4/25\n",
      "1719/1719 [==============================] - 2s 1ms/step - loss: 0.5761 - accuracy: 0.8310 - val_loss: 0.5611 - val_accuracy: 0.8308 - lr: 0.0071\n",
      "Epoch 5/25\n",
      "1719/1719 [==============================] - 2s 1ms/step - loss: 0.5167 - accuracy: 0.8450 - val_loss: 0.6123 - val_accuracy: 0.8448 - lr: 0.0063\n",
      "Epoch 6/25\n",
      "1719/1719 [==============================] - 2s 1ms/step - loss: 0.4629 - accuracy: 0.8571 - val_loss: 0.5393 - val_accuracy: 0.8532 - lr: 0.0056\n",
      "Epoch 7/25\n",
      "1719/1719 [==============================] - 2s 1ms/step - loss: 0.4337 - accuracy: 0.8681 - val_loss: 0.5337 - val_accuracy: 0.8302 - lr: 0.0050\n",
      "Epoch 8/25\n",
      "1719/1719 [==============================] - 2s 1ms/step - loss: 0.3920 - accuracy: 0.8753 - val_loss: 0.4969 - val_accuracy: 0.8544 - lr: 0.0045\n",
      "Epoch 9/25\n",
      "1719/1719 [==============================] - 2s 1ms/step - loss: 0.3874 - accuracy: 0.8805 - val_loss: 0.5127 - val_accuracy: 0.8490 - lr: 0.0040\n",
      "Epoch 10/25\n",
      "1719/1719 [==============================] - 2s 1ms/step - loss: 0.3513 - accuracy: 0.8873 - val_loss: 0.4730 - val_accuracy: 0.8742 - lr: 0.0035\n",
      "Epoch 11/25\n",
      "1719/1719 [==============================] - 2s 1ms/step - loss: 0.3098 - accuracy: 0.8960 - val_loss: 0.4399 - val_accuracy: 0.8706 - lr: 0.0032\n",
      "Epoch 12/25\n",
      "1719/1719 [==============================] - 2s 1ms/step - loss: 0.2928 - accuracy: 0.8999 - val_loss: 0.4466 - val_accuracy: 0.8710 - lr: 0.0028\n",
      "Epoch 13/25\n",
      "1719/1719 [==============================] - 2s 1ms/step - loss: 0.2738 - accuracy: 0.9063 - val_loss: 0.4511 - val_accuracy: 0.8780 - lr: 0.0025\n",
      "Epoch 14/25\n",
      "1719/1719 [==============================] - 2s 1ms/step - loss: 0.2594 - accuracy: 0.9114 - val_loss: 0.4701 - val_accuracy: 0.8638 - lr: 0.0022\n",
      "Epoch 15/25\n",
      "1719/1719 [==============================] - 2s 1ms/step - loss: 0.2388 - accuracy: 0.9157 - val_loss: 0.5093 - val_accuracy: 0.8828 - lr: 0.0020\n",
      "Epoch 16/25\n",
      "1719/1719 [==============================] - 2s 1ms/step - loss: 0.2209 - accuracy: 0.9231 - val_loss: 0.4384 - val_accuracy: 0.8844 - lr: 0.0018\n",
      "Epoch 17/25\n",
      "1719/1719 [==============================] - 2s 1ms/step - loss: 0.2030 - accuracy: 0.9285 - val_loss: 0.4619 - val_accuracy: 0.8804 - lr: 0.0016\n",
      "Epoch 18/25\n",
      "1719/1719 [==============================] - 2s 1ms/step - loss: 0.1912 - accuracy: 0.9328 - val_loss: 0.4392 - val_accuracy: 0.8846 - lr: 0.0014\n",
      "Epoch 19/25\n",
      "1719/1719 [==============================] - 2s 1ms/step - loss: 0.1771 - accuracy: 0.9367 - val_loss: 0.4787 - val_accuracy: 0.8886 - lr: 0.0013\n",
      "Epoch 20/25\n",
      "1719/1719 [==============================] - 2s 1ms/step - loss: 0.1659 - accuracy: 0.9417 - val_loss: 0.4986 - val_accuracy: 0.8842 - lr: 0.0011\n",
      "Epoch 21/25\n",
      "1719/1719 [==============================] - 2s 1ms/step - loss: 0.1527 - accuracy: 0.9462 - val_loss: 0.5332 - val_accuracy: 0.8830 - lr: 0.0010\n",
      "Epoch 22/25\n",
      "1719/1719 [==============================] - 2s 1ms/step - loss: 0.1412 - accuracy: 0.9510 - val_loss: 0.5251 - val_accuracy: 0.8878 - lr: 8.9125e-04\n",
      "Epoch 23/25\n",
      "1719/1719 [==============================] - 2s 1ms/step - loss: 0.1363 - accuracy: 0.9532 - val_loss: 0.5435 - val_accuracy: 0.8832 - lr: 7.9433e-04\n",
      "Epoch 24/25\n",
      "1719/1719 [==============================] - 2s 1ms/step - loss: 0.1258 - accuracy: 0.9556 - val_loss: 0.5593 - val_accuracy: 0.8830 - lr: 7.0795e-04\n",
      "Epoch 25/25\n",
      "1719/1719 [==============================] - 2s 1ms/step - loss: 0.1186 - accuracy: 0.9591 - val_loss: 0.5578 - val_accuracy: 0.8890 - lr: 6.3096e-04\n"
     ]
    }
   ],
   "source": [
    "lr_scheduler = keras.callbacks.LearningRateScheduler(exponential_decay_fn)\n",
    "history = model.fit(X_TrainScaled, y_Train, epochs=n_epochs,\n",
    "                    validation_data=(X_ValidScaled, y_Valid),\n",
    "                    callbacks=[lr_scheduler])"
   ]
  },
  {
   "cell_type": "code",
   "execution_count": 110,
   "id": "618f9a0c",
   "metadata": {},
   "outputs": [
    {
     "data": {
      "image/png": "[encoded data removed]",
      "text/plain": [
       "<Figure size 432x288 with 1 Axes>"
      ]
     },
     "metadata": {
      "needs_background": "light"
     },
     "output_type": "display_data"
    }
   ],
   "source": [
    "plt.plot(history.epoch, history.history[\"lr\"], \"o-\")\n",
    "plt.axis([0, n_epochs - 1, 0, 0.011])\n",
    "plt.xlabel(\"Epoch\")\n",
    "plt.ylabel(\"Learning Rate\")\n",
    "plt.title(\"Exponential Scheduling\", fontsize=14)\n",
    "plt.grid(True)\n",
    "plt.show()"
   ]
  },
  {
   "cell_type": "markdown",
   "id": "a9fb9d16",
   "metadata": {},
   "source": [
    "두 번째 매개변수로 현재 학습률을 사용하는 스케줄 함수"
   ]
  },
  {
   "cell_type": "code",
   "execution_count": 111,
   "id": "b3a1c7e9",
   "metadata": {},
   "outputs": [],
   "source": [
    "def exponential_decay_fn(epoch, lr):\n",
    "    return lr * 0.1**(1 / 20)"
   ]
  },
  {
   "cell_type": "markdown",
   "id": "11c44b5a",
   "metadata": {},
   "source": [
    "에포크가 아니라 반복마다 학습률을 업데이트하려면 사용자 정의 콜백 클래스 작성 필요"
   ]
  },
  {
   "cell_type": "code",
   "execution_count": 112,
   "id": "a4f51979",
   "metadata": {},
   "outputs": [],
   "source": [
    "K = keras.backend\n",
    "\n",
    "class ExponentialDecay(keras.callbacks.Callback):\n",
    "    def __init__(self, s=40000):\n",
    "        super().__init__()\n",
    "        self.s = s\n",
    "\n",
    "    def on_batch_begin(self, batch, logs=None):\n",
    "        # 노트: 에포크마다 `batch` 매개변수가 재설정됩니다\n",
    "        lr = K.get_value(self.model.optimizer.lr)\n",
    "        K.set_value(self.model.optimizer.lr, lr * 0.1**(1 / self.s))\n",
    "\n",
    "    def on_epoch_end(self, epoch, logs=None):\n",
    "        logs = logs or {}\n",
    "        logs['lr'] = K.get_value(self.model.optimizer.lr)"
   ]
  },
  {
   "cell_type": "code",
   "execution_count": 113,
   "id": "70af76ab",
   "metadata": {},
   "outputs": [],
   "source": [
    "model = keras.models.Sequential([\n",
    "    keras.layers.Flatten(input_shape=[28, 28]),\n",
    "    keras.layers.Dense(300, activation=\"selu\", kernel_initializer=\"lecun_normal\"),\n",
    "    keras.layers.Dense(100, activation=\"selu\", kernel_initializer=\"lecun_normal\"),\n",
    "    keras.layers.Dense(10, activation=\"softmax\")\n",
    "])"
   ]
  },
  {
   "cell_type": "code",
   "execution_count": 117,
   "id": "6b5f19b7",
   "metadata": {},
   "outputs": [
    {
     "name": "stdout",
     "output_type": "stream",
     "text": [
      "Epoch 1/25\n",
      "1719/1719 [==============================] - 3s 2ms/step - loss: 0.7910 - accuracy: 0.7684 - val_loss: 0.7787 - val_accuracy: 0.7724 - lr: 0.0089\n",
      "Epoch 2/25\n",
      "1719/1719 [==============================] - 3s 2ms/step - loss: 0.6472 - accuracy: 0.8020 - val_loss: 0.6394 - val_accuracy: 0.8448 - lr: 0.0079\n",
      "Epoch 3/25\n",
      "1719/1719 [==============================] - 3s 2ms/step - loss: 0.5617 - accuracy: 0.8264 - val_loss: 0.5955 - val_accuracy: 0.8456 - lr: 0.0071\n",
      "Epoch 4/25\n",
      "1719/1719 [==============================] - 3s 2ms/step - loss: 0.5256 - accuracy: 0.8370 - val_loss: 0.4660 - val_accuracy: 0.8466 - lr: 0.0063\n",
      "Epoch 5/25\n",
      "1719/1719 [==============================] - 3s 2ms/step - loss: 0.4557 - accuracy: 0.8558 - val_loss: 0.4555 - val_accuracy: 0.8670 - lr: 0.0056\n",
      "Epoch 6/25\n",
      "1719/1719 [==============================] - 3s 2ms/step - loss: 0.4214 - accuracy: 0.8663 - val_loss: 0.4481 - val_accuracy: 0.8690 - lr: 0.0050\n",
      "Epoch 7/25\n",
      "1719/1719 [==============================] - 3s 2ms/step - loss: 0.4208 - accuracy: 0.8684 - val_loss: 0.4925 - val_accuracy: 0.8498 - lr: 0.0045\n",
      "Epoch 8/25\n",
      "1719/1719 [==============================] - 3s 2ms/step - loss: 0.3564 - accuracy: 0.8821 - val_loss: 0.4966 - val_accuracy: 0.8522 - lr: 0.0040\n",
      "Epoch 9/25\n",
      "1719/1719 [==============================] - 3s 2ms/step - loss: 0.3357 - accuracy: 0.8871 - val_loss: 0.4604 - val_accuracy: 0.8688 - lr: 0.0035\n",
      "Epoch 10/25\n",
      "1719/1719 [==============================] - 3s 2ms/step - loss: 0.3120 - accuracy: 0.8953 - val_loss: 0.4752 - val_accuracy: 0.8854 - lr: 0.0032\n",
      "Epoch 11/25\n",
      "1719/1719 [==============================] - 3s 2ms/step - loss: 0.2971 - accuracy: 0.9015 - val_loss: 0.4427 - val_accuracy: 0.8722 - lr: 0.0028\n",
      "Epoch 12/25\n",
      "1719/1719 [==============================] - 3s 2ms/step - loss: 0.2699 - accuracy: 0.9085 - val_loss: 0.4582 - val_accuracy: 0.8676 - lr: 0.0025\n",
      "Epoch 13/25\n",
      "1719/1719 [==============================] - 3s 2ms/step - loss: 0.2536 - accuracy: 0.9139 - val_loss: 0.4584 - val_accuracy: 0.8854 - lr: 0.0022\n",
      "Epoch 14/25\n",
      "1719/1719 [==============================] - 3s 2ms/step - loss: 0.2385 - accuracy: 0.9186 - val_loss: 0.4435 - val_accuracy: 0.8812 - lr: 0.0020\n",
      "Epoch 15/25\n",
      "1719/1719 [==============================] - 3s 2ms/step - loss: 0.2200 - accuracy: 0.9247 - val_loss: 0.4688 - val_accuracy: 0.8840 - lr: 0.0018\n",
      "Epoch 16/25\n",
      "1719/1719 [==============================] - 3s 2ms/step - loss: 0.2066 - accuracy: 0.9309 - val_loss: 0.4622 - val_accuracy: 0.8886 - lr: 0.0016\n",
      "Epoch 17/25\n",
      "1719/1719 [==============================] - 3s 2ms/step - loss: 0.1906 - accuracy: 0.9345 - val_loss: 0.4774 - val_accuracy: 0.8866 - lr: 0.0014\n",
      "Epoch 18/25\n",
      "1719/1719 [==============================] - 3s 2ms/step - loss: 0.1754 - accuracy: 0.9408 - val_loss: 0.4762 - val_accuracy: 0.8882 - lr: 0.0013\n",
      "Epoch 19/25\n",
      "1719/1719 [==============================] - 3s 2ms/step - loss: 0.1635 - accuracy: 0.9452 - val_loss: 0.4681 - val_accuracy: 0.8916 - lr: 0.0011\n",
      "Epoch 20/25\n",
      "1719/1719 [==============================] - 3s 2ms/step - loss: 0.1556 - accuracy: 0.9479 - val_loss: 0.4895 - val_accuracy: 0.8874 - lr: 9.9967e-04\n",
      "Epoch 21/25\n",
      "1719/1719 [==============================] - 3s 2ms/step - loss: 0.1435 - accuracy: 0.9521 - val_loss: 0.5272 - val_accuracy: 0.8870 - lr: 8.9094e-04\n",
      "Epoch 22/25\n",
      "1719/1719 [==============================] - 3s 2ms/step - loss: 0.1327 - accuracy: 0.9562 - val_loss: 0.5490 - val_accuracy: 0.8912 - lr: 7.9404e-04\n",
      "Epoch 23/25\n",
      "1719/1719 [==============================] - 3s 2ms/step - loss: 0.1238 - accuracy: 0.9593 - val_loss: 0.5695 - val_accuracy: 0.8886 - lr: 7.0767e-04\n",
      "Epoch 24/25\n",
      "1719/1719 [==============================] - 3s 2ms/step - loss: 0.1166 - accuracy: 0.9619 - val_loss: 0.5880 - val_accuracy: 0.8894 - lr: 6.3071e-04\n",
      "Epoch 25/25\n",
      "1719/1719 [==============================] - 3s 2ms/step - loss: 0.1103 - accuracy: 0.9646 - val_loss: 0.6009 - val_accuracy: 0.8902 - lr: 5.6211e-04\n"
     ]
    }
   ],
   "source": [
    "lr0 = 0.01\n",
    "optimizer = keras.optimizers.Nadam(learning_rate=lr0)\n",
    "model.compile(loss=\"sparse_categorical_crossentropy\", optimizer=optimizer, metrics=[\"accuracy\"])\n",
    "n_epochs = 25\n",
    "\n",
    "s = 20 * len(X_Train) // 32 # 20 에포크 동안 스텝 횟수 (배치 크기 = 32)\n",
    "exp_decay = ExponentialDecay(s)\n",
    "history = model.fit(X_TrainScaled, y_Train, epochs=n_epochs,\n",
    "                    validation_data=(X_ValidScaled, y_Valid),\n",
    "                    callbacks=[exp_decay])"
   ]
  },
  {
   "cell_type": "code",
   "execution_count": 119,
   "id": "b4c7d9aa",
   "metadata": {},
   "outputs": [
    {
     "data": {
      "image/png": "[encoded data removed]",
      "text/plain": [
       "<Figure size 432x288 with 1 Axes>"
      ]
     },
     "metadata": {
      "needs_background": "light"
     },
     "output_type": "display_data"
    }
   ],
   "source": [
    "n_steps = n_epochs * len(X_Train) // 32\n",
    "steps = np.arange(n_steps)\n",
    "lrs = lr0 * 0.1**(steps / s)\n",
    "\n",
    "plt.plot(steps, lrs, \"-\", linewidth=2)\n",
    "plt.axis([0, n_steps - 1, 0, lr0 * 1.1])\n",
    "plt.xlabel(\"Batch\")\n",
    "plt.ylabel(\"Learning Rate\")\n",
    "plt.title(\"Exponential Scheduling (per batch)\", fontsize=14)\n",
    "plt.grid(True)\n",
    "plt.show()"
   ]
  },
  {
   "cell_type": "markdown",
   "id": "dffb960b",
   "metadata": {},
   "source": [
    "### 기간별 고정 스케줄링"
   ]
  },
  {
   "cell_type": "code",
   "execution_count": 120,
   "id": "389500f1",
   "metadata": {},
   "outputs": [],
   "source": [
    "def piecewise_constant_fn(epoch):\n",
    "    if epoch < 5:\n",
    "        return 0.01\n",
    "    elif epoch < 15:\n",
    "        return 0.005\n",
    "    else:\n",
    "        return 0.001"
   ]
  },
  {
   "cell_type": "code",
   "execution_count": 121,
   "id": "9bfc3f3a",
   "metadata": {},
   "outputs": [],
   "source": [
    "def piecewise_constant(boundaries, values):\n",
    "    boundaries = np.array([0] + boundaries)\n",
    "    values = np.array(values)\n",
    "    def piecewise_constant_fn(epoch):\n",
    "        return values[np.argmax(boundaries > epoch) - 1]\n",
    "    return piecewise_constant_fn\n",
    "\n",
    "piecewise_constant_fn = piecewise_constant([5, 15], [0.01, 0.005, 0.001])"
   ]
  },
  {
   "cell_type": "code",
   "execution_count": 123,
   "id": "87abc325",
   "metadata": {},
   "outputs": [],
   "source": [
    "model = keras.models.Sequential([\n",
    "    keras.layers.Flatten(input_shape=[28, 28]),\n",
    "    keras.layers.Dense(300, activation=\"selu\", kernel_initializer=\"lecun_normal\"),\n",
    "    keras.layers.Dense(100, activation=\"selu\", kernel_initializer=\"lecun_normal\"),\n",
    "    keras.layers.Dense(10, activation=\"softmax\")\n",
    "])\n",
    "model.compile(loss=\"sparse_categorical_crossentropy\", optimizer=\"nadam\", metrics=[\"accuracy\"])"
   ]
  },
  {
   "cell_type": "code",
   "execution_count": 124,
   "id": "300fc41f",
   "metadata": {},
   "outputs": [
    {
     "name": "stdout",
     "output_type": "stream",
     "text": [
      "Epoch 1/25\n",
      "1719/1719 [==============================] - 3s 1ms/step - loss: 0.8386 - accuracy: 0.7600 - val_loss: 0.8521 - val_accuracy: 0.7546 - lr: 0.0100\n",
      "Epoch 2/25\n",
      "1719/1719 [==============================] - 2s 1ms/step - loss: 0.8212 - accuracy: 0.7639 - val_loss: 0.8510 - val_accuracy: 0.7366 - lr: 0.0100\n",
      "Epoch 3/25\n",
      "1719/1719 [==============================] - 2s 1ms/step - loss: 0.8526 - accuracy: 0.7601 - val_loss: 0.8606 - val_accuracy: 0.7090 - lr: 0.0100\n",
      "Epoch 4/25\n",
      "1719/1719 [==============================] - 2s 1ms/step - loss: 0.8884 - accuracy: 0.7543 - val_loss: 0.9883 - val_accuracy: 0.6606 - lr: 0.0100\n",
      "Epoch 5/25\n",
      "1719/1719 [==============================] - 2s 1ms/step - loss: 0.9769 - accuracy: 0.7096 - val_loss: 1.2551 - val_accuracy: 0.6530 - lr: 0.0100\n",
      "Epoch 6/25\n",
      "1719/1719 [==============================] - 2s 1ms/step - loss: 0.5769 - accuracy: 0.8215 - val_loss: 0.6418 - val_accuracy: 0.8362 - lr: 0.0050\n",
      "Epoch 7/25\n",
      "1719/1719 [==============================] - 2s 1ms/step - loss: 0.5124 - accuracy: 0.8458 - val_loss: 0.6338 - val_accuracy: 0.8344 - lr: 0.0050\n",
      "Epoch 8/25\n",
      "1719/1719 [==============================] - 2s 1ms/step - loss: 0.4846 - accuracy: 0.8546 - val_loss: 0.6280 - val_accuracy: 0.8036 - lr: 0.0050\n",
      "Epoch 9/25\n",
      "1719/1719 [==============================] - 2s 1ms/step - loss: 0.4758 - accuracy: 0.8608 - val_loss: 0.6533 - val_accuracy: 0.8224 - lr: 0.0050\n",
      "Epoch 10/25\n",
      "1719/1719 [==============================] - 2s 1ms/step - loss: 0.4655 - accuracy: 0.8617 - val_loss: 0.5172 - val_accuracy: 0.8624 - lr: 0.0050\n",
      "Epoch 11/25\n",
      "1719/1719 [==============================] - 2s 1ms/step - loss: 0.4412 - accuracy: 0.8686 - val_loss: 0.5195 - val_accuracy: 0.8658 - lr: 0.0050\n",
      "Epoch 12/25\n",
      "1719/1719 [==============================] - 2s 1ms/step - loss: 0.4326 - accuracy: 0.8719 - val_loss: 0.5494 - val_accuracy: 0.8572 - lr: 0.0050\n",
      "Epoch 13/25\n",
      "1719/1719 [==============================] - 2s 1ms/step - loss: 0.4223 - accuracy: 0.8757 - val_loss: 0.6563 - val_accuracy: 0.8514 - lr: 0.0050\n",
      "Epoch 14/25\n",
      "1719/1719 [==============================] - 2s 1ms/step - loss: 0.4663 - accuracy: 0.8734 - val_loss: 0.7397 - val_accuracy: 0.8496 - lr: 0.0050\n",
      "Epoch 15/25\n",
      "1719/1719 [==============================] - 2s 1ms/step - loss: 0.4129 - accuracy: 0.8783 - val_loss: 0.6842 - val_accuracy: 0.8538 - lr: 0.0050\n",
      "Epoch 16/25\n",
      "1719/1719 [==============================] - 2s 1ms/step - loss: 0.2902 - accuracy: 0.9063 - val_loss: 0.4705 - val_accuracy: 0.8846 - lr: 0.0010\n",
      "Epoch 17/25\n",
      "1719/1719 [==============================] - 2s 1ms/step - loss: 0.2633 - accuracy: 0.9146 - val_loss: 0.4828 - val_accuracy: 0.8810 - lr: 0.0010\n",
      "Epoch 18/25\n",
      "1719/1719 [==============================] - 2s 1ms/step - loss: 0.2521 - accuracy: 0.9173 - val_loss: 0.4625 - val_accuracy: 0.8832 - lr: 0.0010\n",
      "Epoch 19/25\n",
      "1719/1719 [==============================] - 2s 1ms/step - loss: 0.2438 - accuracy: 0.9207 - val_loss: 0.5091 - val_accuracy: 0.8810 - lr: 0.0010\n",
      "Epoch 20/25\n",
      "1719/1719 [==============================] - 2s 1ms/step - loss: 0.2339 - accuracy: 0.9234 - val_loss: 0.5052 - val_accuracy: 0.8828 - lr: 0.0010\n",
      "Epoch 21/25\n",
      "1719/1719 [==============================] - 2s 1ms/step - loss: 0.2284 - accuracy: 0.9252 - val_loss: 0.5642 - val_accuracy: 0.8800 - lr: 0.0010\n",
      "Epoch 22/25\n",
      "1719/1719 [==============================] - 2s 1ms/step - loss: 0.2225 - accuracy: 0.9276 - val_loss: 0.5090 - val_accuracy: 0.8824 - lr: 0.0010\n",
      "Epoch 23/25\n",
      "1719/1719 [==============================] - 2s 1ms/step - loss: 0.2143 - accuracy: 0.9315 - val_loss: 0.5417 - val_accuracy: 0.8822 - lr: 0.0010\n",
      "Epoch 24/25\n",
      "1719/1719 [==============================] - 2s 1ms/step - loss: 0.2068 - accuracy: 0.9327 - val_loss: 0.5654 - val_accuracy: 0.8838 - lr: 0.0010\n",
      "Epoch 25/25\n",
      "1719/1719 [==============================] - 3s 1ms/step - loss: 0.2059 - accuracy: 0.9344 - val_loss: 0.5463 - val_accuracy: 0.8852 - lr: 0.0010\n"
     ]
    }
   ],
   "source": [
    "n_epochs = 25\n",
    "lr_scheduler = keras.callbacks.LearningRateScheduler(piecewise_constant_fn)\n",
    "history = model.fit(X_TrainScaled, y_Train, epochs=n_epochs,\n",
    "                    validation_data=(X_ValidScaled, y_Valid),\n",
    "                    callbacks=[lr_scheduler])"
   ]
  },
  {
   "cell_type": "code",
   "execution_count": 125,
   "id": "58289a68",
   "metadata": {},
   "outputs": [
    {
     "data": {
      "image/png": "[encoded data removed]",
      "text/plain": [
       "<Figure size 432x288 with 1 Axes>"
      ]
     },
     "metadata": {
      "needs_background": "light"
     },
     "output_type": "display_data"
    }
   ],
   "source": [
    "plt.plot(history.epoch, [piecewise_constant_fn(epoch) for epoch in history.epoch], \"o-\")\n",
    "plt.axis([0, n_epochs - 1, 0, 0.011])\n",
    "plt.xlabel(\"Epoch\")\n",
    "plt.ylabel(\"Learning Rate\")\n",
    "plt.title(\"Piecewise Constant Scheduling\", fontsize=14)\n",
    "plt.grid(True)\n",
    "plt.show()"
   ]
  },
  {
   "cell_type": "code",
   "execution_count": null,
   "id": "cbaf5bb4",
   "metadata": {},
   "outputs": [],
   "source": []
  },
  {
   "cell_type": "markdown",
   "id": "88e94f79",
   "metadata": {},
   "source": [
    "### 성능 기반 스케줄링"
   ]
  },
  {
   "cell_type": "code",
   "execution_count": 126,
   "id": "0a020f98",
   "metadata": {},
   "outputs": [],
   "source": [
    "tf.random.set_seed(42)\n",
    "np.random.seed(42)"
   ]
  },
  {
   "cell_type": "code",
   "execution_count": 127,
   "id": "5ee12caf",
   "metadata": {},
   "outputs": [],
   "source": [
    "model = keras.models.Sequential([\n",
    "    keras.layers.Flatten(input_shape=[28, 28]),\n",
    "    keras.layers.Dense(300, activation=\"selu\", kernel_initializer=\"lecun_normal\"),\n",
    "    keras.layers.Dense(100, activation=\"selu\", kernel_initializer=\"lecun_normal\"),\n",
    "    keras.layers.Dense(10, activation=\"softmax\")\n",
    "])\n",
    "model.compile(loss=\"sparse_categorical_crossentropy\", optimizer=\"nadam\", metrics=[\"accuracy\"])"
   ]
  },
  {
   "cell_type": "code",
   "execution_count": 128,
   "id": "a0bb5f2f",
   "metadata": {},
   "outputs": [
    {
     "name": "stdout",
     "output_type": "stream",
     "text": [
      "Epoch 1/25\n",
      "1719/1719 [==============================] - 3s 1ms/step - loss: 0.4734 - accuracy: 0.8347 - val_loss: 0.3834 - val_accuracy: 0.8634 - lr: 0.0010\n",
      "Epoch 2/25\n",
      "1719/1719 [==============================] - 2s 1ms/step - loss: 0.3440 - accuracy: 0.8740 - val_loss: 0.3587 - val_accuracy: 0.8762 - lr: 0.0010\n",
      "Epoch 3/25\n",
      "1719/1719 [==============================] - 2s 1ms/step - loss: 0.3050 - accuracy: 0.8870 - val_loss: 0.3368 - val_accuracy: 0.8790 - lr: 0.0010\n",
      "Epoch 4/25\n",
      "1719/1719 [==============================] - 2s 1ms/step - loss: 0.2800 - accuracy: 0.8950 - val_loss: 0.3333 - val_accuracy: 0.8838 - lr: 0.0010\n",
      "Epoch 5/25\n",
      "1719/1719 [==============================] - 2s 1ms/step - loss: 0.2594 - accuracy: 0.9029 - val_loss: 0.3270 - val_accuracy: 0.8868 - lr: 0.0010\n",
      "Epoch 6/25\n",
      "1719/1719 [==============================] - 2s 1ms/step - loss: 0.2421 - accuracy: 0.9089 - val_loss: 0.3545 - val_accuracy: 0.8846 - lr: 0.0010\n",
      "Epoch 7/25\n",
      "1719/1719 [==============================] - 2s 1ms/step - loss: 0.2270 - accuracy: 0.9155 - val_loss: 0.3625 - val_accuracy: 0.8838 - lr: 0.0010\n",
      "Epoch 8/25\n",
      "1719/1719 [==============================] - 2s 1ms/step - loss: 0.2083 - accuracy: 0.9214 - val_loss: 0.3514 - val_accuracy: 0.8842 - lr: 0.0010\n",
      "Epoch 9/25\n",
      "1719/1719 [==============================] - 2s 1ms/step - loss: 0.1972 - accuracy: 0.9256 - val_loss: 0.3729 - val_accuracy: 0.8912 - lr: 0.0010\n",
      "Epoch 10/25\n",
      "1719/1719 [==============================] - 2s 1ms/step - loss: 0.1830 - accuracy: 0.9314 - val_loss: 0.4042 - val_accuracy: 0.8902 - lr: 0.0010\n",
      "Epoch 11/25\n",
      "1719/1719 [==============================] - 2s 1ms/step - loss: 0.1270 - accuracy: 0.9523 - val_loss: 0.3809 - val_accuracy: 0.8990 - lr: 5.0000e-04\n",
      "Epoch 12/25\n",
      "1719/1719 [==============================] - 2s 1ms/step - loss: 0.1103 - accuracy: 0.9591 - val_loss: 0.3949 - val_accuracy: 0.8936 - lr: 5.0000e-04\n",
      "Epoch 13/25\n",
      "1719/1719 [==============================] - 2s 1ms/step - loss: 0.1002 - accuracy: 0.9625 - val_loss: 0.4160 - val_accuracy: 0.8984 - lr: 5.0000e-04\n",
      "Epoch 14/25\n",
      "1719/1719 [==============================] - 2s 1ms/step - loss: 0.0915 - accuracy: 0.9654 - val_loss: 0.4412 - val_accuracy: 0.8946 - lr: 5.0000e-04\n",
      "Epoch 15/25\n",
      "1719/1719 [==============================] - 2s 1ms/step - loss: 0.0827 - accuracy: 0.9693 - val_loss: 0.4472 - val_accuracy: 0.8950 - lr: 5.0000e-04\n",
      "Epoch 16/25\n",
      "1719/1719 [==============================] - 2s 1ms/step - loss: 0.0536 - accuracy: 0.9814 - val_loss: 0.4642 - val_accuracy: 0.8966 - lr: 2.5000e-04\n",
      "Epoch 17/25\n",
      "1719/1719 [==============================] - 2s 1ms/step - loss: 0.0461 - accuracy: 0.9838 - val_loss: 0.4904 - val_accuracy: 0.9000 - lr: 2.5000e-04\n",
      "Epoch 18/25\n",
      "1719/1719 [==============================] - 2s 1ms/step - loss: 0.0415 - accuracy: 0.9857 - val_loss: 0.5260 - val_accuracy: 0.8942 - lr: 2.5000e-04\n",
      "Epoch 19/25\n",
      "1719/1719 [==============================] - 2s 1ms/step - loss: 0.0367 - accuracy: 0.9871 - val_loss: 0.5367 - val_accuracy: 0.8974 - lr: 2.5000e-04\n",
      "Epoch 20/25\n",
      "1719/1719 [==============================] - 2s 1ms/step - loss: 0.0324 - accuracy: 0.9893 - val_loss: 0.5486 - val_accuracy: 0.8962 - lr: 2.5000e-04\n",
      "Epoch 21/25\n",
      "1719/1719 [==============================] - 2s 1ms/step - loss: 0.0212 - accuracy: 0.9939 - val_loss: 0.5569 - val_accuracy: 0.8936 - lr: 1.2500e-04\n",
      "Epoch 22/25\n",
      "1719/1719 [==============================] - 2s 1ms/step - loss: 0.0183 - accuracy: 0.9950 - val_loss: 0.5796 - val_accuracy: 0.8976 - lr: 1.2500e-04\n",
      "Epoch 23/25\n",
      "1719/1719 [==============================] - 2s 1ms/step - loss: 0.0162 - accuracy: 0.9957 - val_loss: 0.5949 - val_accuracy: 0.8960 - lr: 1.2500e-04\n",
      "Epoch 24/25\n",
      "1719/1719 [==============================] - 2s 1ms/step - loss: 0.0146 - accuracy: 0.9960 - val_loss: 0.6158 - val_accuracy: 0.8968 - lr: 1.2500e-04\n",
      "Epoch 25/25\n",
      "1719/1719 [==============================] - 2s 1ms/step - loss: 0.0130 - accuracy: 0.9966 - val_loss: 0.6321 - val_accuracy: 0.8954 - lr: 1.2500e-04\n"
     ]
    }
   ],
   "source": [
    "n_epochs = 25\n",
    "lr_scheduler = keras.callbacks.ReduceLROnPlateau(factor=0.5, patience=5)\n",
    "history = model.fit(X_TrainScaled, y_Train, epochs=n_epochs,\n",
    "                    validation_data=(X_ValidScaled, y_Valid),\n",
    "                    callbacks=[lr_scheduler])"
   ]
  },
  {
   "cell_type": "code",
   "execution_count": 129,
   "id": "10c5b552",
   "metadata": {},
   "outputs": [
    {
     "data": {
      "image/png": "[encoded data removed]",
      "text/plain": [
       "<Figure size 432x288 with 2 Axes>"
      ]
     },
     "metadata": {
      "needs_background": "light"
     },
     "output_type": "display_data"
    }
   ],
   "source": [
    "plt.plot(history.epoch, history.history[\"lr\"], \"bo-\")\n",
    "plt.xlabel(\"Epoch\")\n",
    "plt.ylabel(\"Learning Rate\", color='b')\n",
    "plt.tick_params('y', colors='b')\n",
    "plt.gca().set_xlim(0, n_epochs - 1)\n",
    "plt.grid(True)\n",
    "\n",
    "ax2 = plt.gca().twinx()\n",
    "ax2.plot(history.epoch, history.history[\"val_loss\"], \"r^-\")\n",
    "ax2.set_ylabel('Validation Loss', color='r')\n",
    "ax2.tick_params('y', colors='r')\n",
    "\n",
    "plt.title(\"Reduce LR on Plateau\", fontsize=14)\n",
    "plt.show()"
   ]
  },
  {
   "cell_type": "markdown",
   "id": "5c0c4746",
   "metadata": {},
   "source": [
    "### tf.keras 스케줄러"
   ]
  },
  {
   "cell_type": "code",
   "execution_count": 132,
   "id": "ac0e2f9e",
   "metadata": {},
   "outputs": [],
   "source": [
    "model = keras.models.Sequential([\n",
    "    keras.layers.Flatten(input_shape=[28, 28]),\n",
    "    keras.layers.Dense(300, activation=\"selu\", kernel_initializer=\"lecun_normal\"),\n",
    "    keras.layers.Dense(100, activation=\"selu\", kernel_initializer=\"lecun_normal\"),\n",
    "    keras.layers.Dense(10, activation=\"softmax\")\n",
    "])"
   ]
  },
  {
   "cell_type": "markdown",
   "id": "71a74250",
   "metadata": {},
   "source": [
    "앞서 만든 지수기반 스케줄링과 동일한 구현"
   ]
  },
  {
   "cell_type": "code",
   "execution_count": 135,
   "id": "995805b9",
   "metadata": {},
   "outputs": [],
   "source": [
    "s = 20 * len(X_Train) // 32 # number of steps in 20 epochs (batch size = 32)\n",
    "learning_rate = keras.optimizers.schedules.ExponentialDecay(0.01, s, 0.1)\n",
    "optimizer = keras.optimizers.SGD(learning_rate)\n",
    "model.compile(loss=\"sparse_categorical_crossentropy\", optimizer=optimizer, metrics=[\"accuracy\"])"
   ]
  },
  {
   "cell_type": "code",
   "execution_count": 137,
   "id": "023692cb",
   "metadata": {},
   "outputs": [
    {
     "name": "stdout",
     "output_type": "stream",
     "text": [
      "Epoch 1/25\n",
      "1719/1719 [==============================] - 2s 905us/step - loss: 0.3779 - accuracy: 0.8658 - val_loss: 0.3749 - val_accuracy: 0.8646\n",
      "Epoch 2/25\n",
      "1719/1719 [==============================] - 2s 910us/step - loss: 0.3448 - accuracy: 0.8773 - val_loss: 0.3593 - val_accuracy: 0.8764\n",
      "Epoch 3/25\n",
      "1719/1719 [==============================] - 2s 912us/step - loss: 0.3228 - accuracy: 0.8851 - val_loss: 0.3637 - val_accuracy: 0.8714\n",
      "Epoch 4/25\n",
      "1719/1719 [==============================] - 2s 915us/step - loss: 0.3069 - accuracy: 0.8899 - val_loss: 0.3436 - val_accuracy: 0.8830\n",
      "Epoch 5/25\n",
      "1719/1719 [==============================] - 2s 922us/step - loss: 0.2948 - accuracy: 0.8951 - val_loss: 0.3380 - val_accuracy: 0.8802\n",
      "Epoch 6/25\n",
      "1719/1719 [==============================] - 2s 915us/step - loss: 0.2832 - accuracy: 0.8999 - val_loss: 0.3385 - val_accuracy: 0.8838\n",
      "Epoch 7/25\n",
      "1719/1719 [==============================] - 2s 918us/step - loss: 0.2745 - accuracy: 0.9029 - val_loss: 0.3336 - val_accuracy: 0.8844\n",
      "Epoch 8/25\n",
      "1719/1719 [==============================] - 2s 914us/step - loss: 0.2668 - accuracy: 0.9054 - val_loss: 0.3355 - val_accuracy: 0.8830\n",
      "Epoch 9/25\n",
      "1719/1719 [==============================] - 2s 918us/step - loss: 0.2598 - accuracy: 0.9078 - val_loss: 0.3283 - val_accuracy: 0.8842\n",
      "Epoch 10/25\n",
      "1719/1719 [==============================] - 2s 908us/step - loss: 0.2538 - accuracy: 0.9107 - val_loss: 0.3263 - val_accuracy: 0.8860\n",
      "Epoch 11/25\n",
      "1719/1719 [==============================] - 2s 910us/step - loss: 0.2490 - accuracy: 0.9116 - val_loss: 0.3274 - val_accuracy: 0.8874\n",
      "Epoch 12/25\n",
      "1719/1719 [==============================] - 2s 924us/step - loss: 0.2444 - accuracy: 0.9139 - val_loss: 0.3305 - val_accuracy: 0.8838\n",
      "Epoch 13/25\n",
      "1719/1719 [==============================] - 2s 928us/step - loss: 0.2402 - accuracy: 0.9163 - val_loss: 0.3234 - val_accuracy: 0.8880\n",
      "Epoch 14/25\n",
      "1719/1719 [==============================] - 2s 923us/step - loss: 0.2372 - accuracy: 0.9174 - val_loss: 0.3253 - val_accuracy: 0.8874\n",
      "Epoch 15/25\n",
      "1719/1719 [==============================] - 2s 916us/step - loss: 0.2337 - accuracy: 0.9177 - val_loss: 0.3226 - val_accuracy: 0.8862\n",
      "Epoch 16/25\n",
      "1719/1719 [==============================] - 2s 915us/step - loss: 0.2309 - accuracy: 0.9190 - val_loss: 0.3224 - val_accuracy: 0.8878\n",
      "Epoch 17/25\n",
      "1719/1719 [==============================] - 2s 918us/step - loss: 0.2285 - accuracy: 0.9204 - val_loss: 0.3227 - val_accuracy: 0.8870\n",
      "Epoch 18/25\n",
      "1719/1719 [==============================] - 2s 906us/step - loss: 0.2262 - accuracy: 0.9210 - val_loss: 0.3205 - val_accuracy: 0.8898\n",
      "Epoch 19/25\n",
      "1719/1719 [==============================] - 2s 916us/step - loss: 0.2243 - accuracy: 0.9218 - val_loss: 0.3227 - val_accuracy: 0.8876\n",
      "Epoch 20/25\n",
      "1719/1719 [==============================] - 2s 915us/step - loss: 0.2226 - accuracy: 0.9226 - val_loss: 0.3203 - val_accuracy: 0.8888\n",
      "Epoch 21/25\n",
      "1719/1719 [==============================] - 2s 916us/step - loss: 0.2208 - accuracy: 0.9231 - val_loss: 0.3207 - val_accuracy: 0.8886\n",
      "Epoch 22/25\n",
      "1719/1719 [==============================] - 2s 919us/step - loss: 0.2197 - accuracy: 0.9237 - val_loss: 0.3197 - val_accuracy: 0.8882\n",
      "Epoch 23/25\n",
      "1719/1719 [==============================] - 2s 917us/step - loss: 0.2183 - accuracy: 0.9242 - val_loss: 0.3206 - val_accuracy: 0.8876\n",
      "Epoch 24/25\n",
      "1719/1719 [==============================] - 2s 912us/step - loss: 0.2172 - accuracy: 0.9245 - val_loss: 0.3200 - val_accuracy: 0.8892\n",
      "Epoch 25/25\n",
      "1719/1719 [==============================] - 2s 924us/step - loss: 0.2164 - accuracy: 0.9253 - val_loss: 0.3199 - val_accuracy: 0.8892\n"
     ]
    }
   ],
   "source": [
    "n_epochs = 25\n",
    "history = model.fit(X_TrainScaled, y_Train, epochs=n_epochs,\n",
    "                    validation_data=(X_ValidScaled, y_Valid))"
   ]
  },
  {
   "cell_type": "markdown",
   "id": "7ae903df",
   "metadata": {},
   "source": [
    "앞서 만든 구간별 고정 스케줄링과 동일"
   ]
  },
  {
   "cell_type": "code",
   "execution_count": 139,
   "id": "f243c728",
   "metadata": {},
   "outputs": [],
   "source": [
    "n_steps_per_epoch = math.ceil(len(X_Train) / batch_size)\n",
    "learning_rate = keras.optimizers.schedules.PiecewiseConstantDecay(\n",
    "    boundaries=[5.*n_steps_per_epoch, 15.*n_steps_per_epoch],\n",
    "    values =[0.001, 0.005, 0.001])\n",
    "optimizer = keras.optimizers.SGD(learning_rate)\n",
    "model.compile(loss=\"sparse_categorical_crossentropy\", optimizer=optimizer, metrics=[\"accuracy\"])"
   ]
  },
  {
   "cell_type": "code",
   "execution_count": 140,
   "id": "fa67e8fd",
   "metadata": {},
   "outputs": [
    {
     "name": "stdout",
     "output_type": "stream",
     "text": [
      "Epoch 1/25\n",
      "1719/1719 [==============================] - 2s 974us/step - loss: 0.2170 - accuracy: 0.9249 - val_loss: 0.3211 - val_accuracy: 0.8886\n",
      "Epoch 2/25\n",
      "1719/1719 [==============================] - 2s 938us/step - loss: 0.2158 - accuracy: 0.9247 - val_loss: 0.3200 - val_accuracy: 0.8926\n",
      "Epoch 3/25\n",
      "1719/1719 [==============================] - 2s 931us/step - loss: 0.2146 - accuracy: 0.9260 - val_loss: 0.3214 - val_accuracy: 0.8896\n",
      "Epoch 4/25\n",
      "1719/1719 [==============================] - 2s 938us/step - loss: 0.2133 - accuracy: 0.9263 - val_loss: 0.3179 - val_accuracy: 0.8890\n",
      "Epoch 5/25\n",
      "1719/1719 [==============================] - 2s 927us/step - loss: 0.2124 - accuracy: 0.9260 - val_loss: 0.3194 - val_accuracy: 0.8874\n",
      "Epoch 6/25\n",
      "1719/1719 [==============================] - 2s 928us/step - loss: 0.2248 - accuracy: 0.9201 - val_loss: 0.3264 - val_accuracy: 0.8888\n",
      "Epoch 7/25\n",
      "1719/1719 [==============================] - 2s 930us/step - loss: 0.2202 - accuracy: 0.9225 - val_loss: 0.3270 - val_accuracy: 0.8868\n",
      "Epoch 8/25\n",
      "1719/1719 [==============================] - 2s 933us/step - loss: 0.2149 - accuracy: 0.9245 - val_loss: 0.3415 - val_accuracy: 0.8830\n",
      "Epoch 9/25\n",
      "1719/1719 [==============================] - 2s 931us/step - loss: 0.2094 - accuracy: 0.9253 - val_loss: 0.3202 - val_accuracy: 0.8912\n",
      "Epoch 10/25\n",
      "1719/1719 [==============================] - 2s 927us/step - loss: 0.2045 - accuracy: 0.9282 - val_loss: 0.3215 - val_accuracy: 0.8906\n",
      "Epoch 11/25\n",
      "1719/1719 [==============================] - 2s 928us/step - loss: 0.2002 - accuracy: 0.9289 - val_loss: 0.3261 - val_accuracy: 0.8894\n",
      "Epoch 12/25\n",
      "1719/1719 [==============================] - 2s 929us/step - loss: 0.1950 - accuracy: 0.9321 - val_loss: 0.3422 - val_accuracy: 0.8812\n",
      "Epoch 13/25\n",
      "1719/1719 [==============================] - 2s 935us/step - loss: 0.1904 - accuracy: 0.9334 - val_loss: 0.3328 - val_accuracy: 0.8876\n",
      "Epoch 14/25\n",
      "1719/1719 [==============================] - 2s 930us/step - loss: 0.1872 - accuracy: 0.9347 - val_loss: 0.3376 - val_accuracy: 0.8872\n",
      "Epoch 15/25\n",
      "1719/1719 [==============================] - 2s 931us/step - loss: 0.1818 - accuracy: 0.9360 - val_loss: 0.3270 - val_accuracy: 0.8894\n",
      "Epoch 16/25\n",
      "1719/1719 [==============================] - 2s 934us/step - loss: 0.1640 - accuracy: 0.9449 - val_loss: 0.3188 - val_accuracy: 0.8930\n",
      "Epoch 17/25\n",
      "1719/1719 [==============================] - 2s 927us/step - loss: 0.1619 - accuracy: 0.9465 - val_loss: 0.3202 - val_accuracy: 0.8920\n",
      "Epoch 18/25\n",
      "1719/1719 [==============================] - 2s 932us/step - loss: 0.1607 - accuracy: 0.9471 - val_loss: 0.3191 - val_accuracy: 0.8918\n",
      "Epoch 19/25\n",
      "1719/1719 [==============================] - 2s 934us/step - loss: 0.1597 - accuracy: 0.9477 - val_loss: 0.3220 - val_accuracy: 0.8898\n",
      "Epoch 20/25\n",
      "1719/1719 [==============================] - 2s 934us/step - loss: 0.1588 - accuracy: 0.9483 - val_loss: 0.3208 - val_accuracy: 0.8914\n",
      "Epoch 21/25\n",
      "1719/1719 [==============================] - 2s 931us/step - loss: 0.1575 - accuracy: 0.9491 - val_loss: 0.3210 - val_accuracy: 0.8922\n",
      "Epoch 22/25\n",
      "1719/1719 [==============================] - 2s 931us/step - loss: 0.1568 - accuracy: 0.9484 - val_loss: 0.3211 - val_accuracy: 0.8916\n",
      "Epoch 23/25\n",
      "1719/1719 [==============================] - 2s 934us/step - loss: 0.1557 - accuracy: 0.9493 - val_loss: 0.3221 - val_accuracy: 0.8908\n",
      "Epoch 24/25\n",
      "1719/1719 [==============================] - 2s 934us/step - loss: 0.1547 - accuracy: 0.9497 - val_loss: 0.3234 - val_accuracy: 0.8902\n",
      "Epoch 25/25\n",
      "1719/1719 [==============================] - 2s 934us/step - loss: 0.1540 - accuracy: 0.9499 - val_loss: 0.3234 - val_accuracy: 0.8914\n"
     ]
    }
   ],
   "source": [
    "n_epochs = 25\n",
    "history = model.fit(X_TrainScaled, y_Train, epochs=n_epochs,\n",
    "                    validation_data=(X_ValidScaled, y_Valid))"
   ]
  },
  {
   "cell_type": "markdown",
   "id": "d72f6003",
   "metadata": {},
   "source": [
    "### 1사이클 스케줄링"
   ]
  },
  {
   "cell_type": "code",
   "execution_count": 143,
   "id": "05be913c",
   "metadata": {},
   "outputs": [],
   "source": [
    "K = keras.backend\n",
    "\n",
    "class ExponentialLearningRate(keras.callbacks.Callback):\n",
    "    def __init__(self, factor):\n",
    "        self.factor = factor\n",
    "        self.rates = []\n",
    "        self.losses = []\n",
    "    def on_batch_end(self, batch, logs):\n",
    "        self.rates.append(K.get_value(self.model.optimizer.lr))\n",
    "        self.losses.append(logs[\"loss\"])\n",
    "        K.set_value(self.model.optimizer.lr, self.model.optimizer.lr * self.factor)\n",
    "\n",
    "def find_learning_rate(model, X, y, epochs=1, batch_size=32, min_rate=10**-5, max_rate=10):\n",
    "    init_weights = model.get_weights()\n",
    "    iterations = math.ceil(len(X) / batch_size) * epochs\n",
    "    factor = np.exp(np.log(max_rate / min_rate) / iterations)\n",
    "    init_lr = K.get_value(model.optimizer.lr)\n",
    "    K.set_value(model.optimizer.lr, min_rate)\n",
    "    exp_lr = ExponentialLearningRate(factor)\n",
    "    history = model.fit(X, y, epochs=epochs, batch_size=batch_size,\n",
    "                        callbacks=[exp_lr])\n",
    "    K.set_value(model.optimizer.lr, init_lr)\n",
    "    model.set_weights(init_weights)\n",
    "    return exp_lr.rates, exp_lr.losses\n",
    "\n",
    "def plot_lr_vs_loss(rates, losses):\n",
    "    plt.plot(rates, losses)\n",
    "    plt.gca().set_xscale('log')\n",
    "    plt.hlines(min(losses), min(rates), max(rates))\n",
    "    plt.axis([min(rates), max(rates), min(losses), (losses[0] + min(losses)) / 2])\n",
    "    plt.xlabel(\"Learning rate\")\n",
    "    plt.ylabel(\"Loss\")"
   ]
  },
  {
   "cell_type": "markdown",
   "id": "1721f290",
   "metadata": {},
   "source": [
    "**경고**: `on_batch_end()` 메서드에서 `logs[\"loss\"]`로 배치 손실을 모으지만 텐서플로 2.2.0에서 (에포크의) 평균 손실로 바뀌었습니다. (텐서플로 2.2 이상을 사용한다면) 이런 이유로 아래 그래프가 이전보다 훨씬 부드럽습니다. 이는 그래프에서 배치 손실이 폭주하기 시작하는 지점과 그렇지 않은 지점 사이에 지연이 있다는 뜻입니다. 따라서 변동이 심한 그래프에서는 조금 더 작은 학습률을 선택해야 합니다. 또한 `ExponentialLearningRate` 콜백을 조금 바꾸어 (현재 평균 손실과 이전 평균 손실을 기반으로) 배치 손실을 계산할 수 있습니다:\n",
    "\n",
    "```python\n",
    "class ExponentialLearningRate(keras.callbacks.Callback):\n",
    "    def __init__(self, factor):\n",
    "        self.factor = factor\n",
    "        self.rates = []\n",
    "        self.losses = []\n",
    "    def on_epoch_begin(self, epoch, logs=None):\n",
    "        self.prev_loss = 0\n",
    "    def on_batch_end(self, batch, logs=None):\n",
    "        batch_loss = logs[\"loss\"] * (batch + 1) - self.prev_loss * batch\n",
    "        self.prev_loss = logs[\"loss\"]\n",
    "        self.rates.append(K.get_value(self.model.optimizer.lr))\n",
    "        self.losses.append(batch_loss)\n",
    "        K.set_value(self.model.optimizer.lr, self.model.optimizer.lr * self.factor)|\n",
    "```"
   ]
  },
  {
   "cell_type": "code",
   "execution_count": 144,
   "id": "07eb9052",
   "metadata": {},
   "outputs": [],
   "source": [
    "tf.random.set_seed(42)\n",
    "np.random.seed(42)"
   ]
  },
  {
   "cell_type": "code",
   "execution_count": 145,
   "id": "d9ff1f4b",
   "metadata": {},
   "outputs": [],
   "source": [
    "model = keras.models.Sequential([\n",
    "    keras.layers.Flatten(input_shape=[28, 28]),\n",
    "    keras.layers.Dense(300, activation=\"selu\", kernel_initializer=\"lecun_normal\"),\n",
    "    keras.layers.Dense(100, activation=\"selu\", kernel_initializer=\"lecun_normal\"),\n",
    "    keras.layers.Dense(10, activation=\"softmax\")\n",
    "])\n",
    "model.compile(loss=\"sparse_categorical_crossentropy\",\n",
    "              optimizer=keras.optimizers.SGD(learning_rate=1e-3),\n",
    "              metrics=[\"accuracy\"])"
   ]
  },
  {
   "cell_type": "code",
   "execution_count": 148,
   "id": "037dfa43",
   "metadata": {},
   "outputs": [
    {
     "name": "stdout",
     "output_type": "stream",
     "text": [
      "430/430 [==============================] - 1s 1ms/step - loss: nan - accuracy: 0.3863    \n"
     ]
    },
    {
     "data": {
      "image/png": "[encoded data removed]",
      "text/plain": [
       "<Figure size 432x288 with 1 Axes>"
      ]
     },
     "metadata": {
      "needs_background": "light"
     },
     "output_type": "display_data"
    }
   ],
   "source": [
    "batch_size = 128\n",
    "rates, losses = find_learning_rate(model, X_TrainScaled, y_Train, epochs=1, batch_size=batch_size)\n",
    "plot_lr_vs_loss(rates, losses)"
   ]
  },
  {
   "cell_type": "code",
   "execution_count": 150,
   "id": "d0088937",
   "metadata": {},
   "outputs": [],
   "source": [
    "class OneCycleScheduler(keras.callbacks.Callback):\n",
    "    def __init__(self, iterations, max_rate, start_rate=None,\n",
    "                 last_iterations=None, last_rate=None):\n",
    "        self.iterations = iterations\n",
    "        self.max_rate = max_rate\n",
    "        self.start_rate = start_rate or max_rate / 10\n",
    "        self.last_iterations = last_iterations or iterations // 10 + 1\n",
    "        self.half_iteration = (iterations - self.last_iterations) // 2\n",
    "        self.last_rate = last_rate or self.start_rate / 1000\n",
    "        self.iteration = 0\n",
    "    def _interpolate(self, iter1, iter2, rate1, rate2):\n",
    "        return ((rate2 - rate1) * (self.iteration - iter1)\n",
    "                / (iter2 - iter1) + rate1)\n",
    "    def on_batch_begin(self, batch, logs):\n",
    "        if self.iteration < self.half_iteration:\n",
    "            rate = self._interpolate(0, self.half_iteration, self.start_rate, self.max_rate)\n",
    "        elif self.iteration < 2 * self.half_iteration:\n",
    "            rate = self._interpolate(self.half_iteration, 2 * self.half_iteration,\n",
    "                                     self.max_rate, self.start_rate)\n",
    "        else:\n",
    "            rate = self._interpolate(2 * self.half_iteration, self.iterations,\n",
    "                                     self.start_rate, self.last_rate)\n",
    "        self.iteration += 1\n",
    "        K.set_value(self.model.optimizer.lr, rate)"
   ]
  },
  {
   "cell_type": "code",
   "execution_count": 153,
   "id": "661837c7",
   "metadata": {},
   "outputs": [
    {
     "name": "stdout",
     "output_type": "stream",
     "text": [
      "Epoch 1/25\n",
      "430/430 [==============================] - 1s 1ms/step - loss: 0.6573 - accuracy: 0.7738 - val_loss: 0.4873 - val_accuracy: 0.8338\n",
      "Epoch 2/25\n",
      "430/430 [==============================] - 0s 1ms/step - loss: 0.4581 - accuracy: 0.8395 - val_loss: 0.4275 - val_accuracy: 0.8520\n",
      "Epoch 3/25\n",
      "430/430 [==============================] - 1s 1ms/step - loss: 0.4122 - accuracy: 0.8546 - val_loss: 0.4115 - val_accuracy: 0.8592\n",
      "Epoch 4/25\n",
      "430/430 [==============================] - 1s 1ms/step - loss: 0.3837 - accuracy: 0.8641 - val_loss: 0.3872 - val_accuracy: 0.8680\n",
      "Epoch 5/25\n",
      "430/430 [==============================] - 1s 1ms/step - loss: 0.3640 - accuracy: 0.8715 - val_loss: 0.3765 - val_accuracy: 0.8682\n",
      "Epoch 6/25\n",
      "430/430 [==============================] - 0s 1ms/step - loss: 0.3457 - accuracy: 0.8773 - val_loss: 0.3740 - val_accuracy: 0.8716\n",
      "Epoch 7/25\n",
      "430/430 [==============================] - 1s 1ms/step - loss: 0.3330 - accuracy: 0.8811 - val_loss: 0.3633 - val_accuracy: 0.8716\n",
      "Epoch 8/25\n",
      "430/430 [==============================] - 1s 1ms/step - loss: 0.3185 - accuracy: 0.8860 - val_loss: 0.3954 - val_accuracy: 0.8596\n",
      "Epoch 9/25\n",
      "430/430 [==============================] - 1s 1ms/step - loss: 0.3066 - accuracy: 0.8893 - val_loss: 0.3493 - val_accuracy: 0.8768\n",
      "Epoch 10/25\n",
      "430/430 [==============================] - 1s 1ms/step - loss: 0.2945 - accuracy: 0.8927 - val_loss: 0.3400 - val_accuracy: 0.8796\n",
      "Epoch 11/25\n",
      "430/430 [==============================] - 1s 1ms/step - loss: 0.2840 - accuracy: 0.8964 - val_loss: 0.3458 - val_accuracy: 0.8814\n",
      "Epoch 12/25\n",
      "430/430 [==============================] - 1s 1ms/step - loss: 0.2711 - accuracy: 0.9027 - val_loss: 0.3650 - val_accuracy: 0.8698\n",
      "Epoch 13/25\n",
      "430/430 [==============================] - 1s 1ms/step - loss: 0.2539 - accuracy: 0.9077 - val_loss: 0.3354 - val_accuracy: 0.8848\n",
      "Epoch 14/25\n",
      "430/430 [==============================] - 1s 1ms/step - loss: 0.2407 - accuracy: 0.9133 - val_loss: 0.3454 - val_accuracy: 0.8816\n",
      "Epoch 15/25\n",
      "430/430 [==============================] - 1s 1ms/step - loss: 0.2281 - accuracy: 0.9183 - val_loss: 0.3267 - val_accuracy: 0.8840\n",
      "Epoch 16/25\n",
      "430/430 [==============================] - 1s 1ms/step - loss: 0.2161 - accuracy: 0.9230 - val_loss: 0.3301 - val_accuracy: 0.8834\n",
      "Epoch 17/25\n",
      "430/430 [==============================] - 1s 1ms/step - loss: 0.2064 - accuracy: 0.9262 - val_loss: 0.3348 - val_accuracy: 0.8860\n",
      "Epoch 18/25\n",
      "430/430 [==============================] - 1s 1ms/step - loss: 0.1979 - accuracy: 0.9300 - val_loss: 0.3239 - val_accuracy: 0.8896\n",
      "Epoch 19/25\n",
      "430/430 [==============================] - 1s 1ms/step - loss: 0.1893 - accuracy: 0.9340 - val_loss: 0.3235 - val_accuracy: 0.8908\n",
      "Epoch 20/25\n",
      "430/430 [==============================] - 1s 1ms/step - loss: 0.1822 - accuracy: 0.9365 - val_loss: 0.3227 - val_accuracy: 0.8924\n",
      "Epoch 21/25\n",
      "430/430 [==============================] - 1s 1ms/step - loss: 0.1753 - accuracy: 0.9400 - val_loss: 0.3219 - val_accuracy: 0.8900\n",
      "Epoch 22/25\n",
      "430/430 [==============================] - 1s 1ms/step - loss: 0.1700 - accuracy: 0.9421 - val_loss: 0.3182 - val_accuracy: 0.8950\n",
      "Epoch 23/25\n",
      "430/430 [==============================] - 1s 1ms/step - loss: 0.1654 - accuracy: 0.9440 - val_loss: 0.3186 - val_accuracy: 0.8944\n",
      "Epoch 24/25\n",
      "430/430 [==============================] - 1s 1ms/step - loss: 0.1626 - accuracy: 0.9455 - val_loss: 0.3178 - val_accuracy: 0.8934\n",
      "Epoch 25/25\n",
      "430/430 [==============================] - 1s 1ms/step - loss: 0.1609 - accuracy: 0.9464 - val_loss: 0.3170 - val_accuracy: 0.8936\n"
     ]
    }
   ],
   "source": [
    "n_epochs = 25\n",
    "onecycle = OneCycleScheduler(math.ceil(len(X_Train) / batch_size) * n_epochs, max_rate=0.05)\n",
    "history = model.fit(X_TrainScaled, y_Train, epochs=n_epochs, batch_size=batch_size,\n",
    "                    validation_data=(X_ValidScaled, y_Valid),\n",
    "                    callbacks=[onecycle])"
   ]
  },
  {
   "cell_type": "markdown",
   "id": "dc318473",
   "metadata": {},
   "source": [
    "# 규제를 사용해 과대적합 피하기"
   ]
  },
  {
   "cell_type": "markdown",
   "id": "a3f83289",
   "metadata": {},
   "source": [
    "## $\\ell_1$과 $\\ell_2$ 규제"
   ]
  },
  {
   "cell_type": "code",
   "execution_count": null,
   "id": "f5248b50",
   "metadata": {},
   "outputs": [],
   "source": [
    "layer = keras.layers.Dense(100, activation=\"elu\",\n",
    "                           kernel_initializer=\"he_normal\",\n",
    "                           kernel_regularizer=keras.regularizers.l2(0.01))\n",
    "# or l1(0.1) for ℓ1 regularization with a factor of 0.1\n",
    "# or l1_l2(0.1, 0.01) for both ℓ1 and ℓ2 regularization, with factors 0.1 and 0.01 respectively"
   ]
  },
  {
   "cell_type": "code",
   "execution_count": 154,
   "id": "88443655",
   "metadata": {},
   "outputs": [],
   "source": [
    "model = keras.models.Sequential([\n",
    "    keras.layers.Flatten(input_shape=[28, 28]),\n",
    "    keras.layers.Dense(300, activation=\"elu\",\n",
    "                       kernel_initializer=\"he_normal\",\n",
    "                       kernel_regularizer=keras.regularizers.l2(0.01)),\n",
    "    keras.layers.Dense(100, activation=\"elu\",\n",
    "                       kernel_initializer=\"he_normal\",\n",
    "                       kernel_regularizer=keras.regularizers.l2(0.01)),\n",
    "    keras.layers.Dense(10, activation=\"softmax\",\n",
    "                       kernel_regularizer=keras.regularizers.l2(0.01))\n",
    "])\n",
    "model.compile(loss=\"sparse_categorical_crossentropy\", optimizer=\"nadam\", metrics=[\"accuracy\"])"
   ]
  },
  {
   "cell_type": "code",
   "execution_count": 155,
   "id": "5049d222",
   "metadata": {},
   "outputs": [
    {
     "name": "stdout",
     "output_type": "stream",
     "text": [
      "Epoch 1/2\n",
      "1719/1719 [==============================] - 3s 1ms/step - loss: 1.5956 - accuracy: 0.8124 - val_loss: 0.7169 - val_accuracy: 0.8340\n",
      "Epoch 2/2\n",
      "1719/1719 [==============================] - 2s 1ms/step - loss: 0.7197 - accuracy: 0.8273 - val_loss: 0.6850 - val_accuracy: 0.8376\n"
     ]
    }
   ],
   "source": [
    "n_epochs = 2\n",
    "history = model.fit(X_TrainScaled, y_Train, epochs=n_epochs,\n",
    "                    validation_data=(X_ValidScaled, y_Valid))"
   ]
  },
  {
   "cell_type": "markdown",
   "id": "a43d005a",
   "metadata": {},
   "source": [
    "일반적으로 네트워크의 모든 은닉층에 동일한 활성화 함수, 동일한 초기화 전략, 동일한 규제를 적용하기 댸문에 동일한 매개변수 값을 반복하는 경우가 많다.  \n",
    "\n",
    "이는 코드를 읽기 어렵게 만들고 버그를 만들기 쉽다.  \n",
    "\n",
    "1. 반복문을 사용하여 코드 리팩터링\n",
    "2. 파이썬의 functools.partial()을 사용하여 기본 매개변수 값을 사용하여 함수 호출을 감싸서 사용"
   ]
  },
  {
   "cell_type": "code",
   "execution_count": 170,
   "id": "c28ee291",
   "metadata": {},
   "outputs": [],
   "source": [
    "# 1. 반복문 사용 - 위에랑 다르긴 하다, 이거는 아래의 층 세번 반복\n",
    "# keras.layers.Dense(300, activation=\"elu\", kernel_initializer=\"he_normal\", kernel_regularizer=keras.regularizers.l2(0.01)))\n",
    "model = keras.models.Sequential()\n",
    "model.add(keras.layers.Flatten(input_shape=[28,28]))\n",
    "for layer in range(2):\n",
    "    model.add(keras.layers.Dense(300, activation=\"elu\",\n",
    "                                kernel_initializer=\"he_normal\",\n",
    "                                kernel_regularizer=keras.regularizers.l2(0.01)))\n",
    "model.compile(loss=\"sparse_categorical_crossentropy\", optimizer=\"nadam\", metrics=[\"accuracy\"])"
   ]
  },
  {
   "cell_type": "code",
   "execution_count": 169,
   "id": "f062f7e1",
   "metadata": {},
   "outputs": [],
   "source": [
    "# 2. 파이썬의 functools.partial() 사용\n",
    "from functools import partial\n",
    "RegularizedDense = partial(keras.layers.Dense,\n",
    "                           activation=\"elu\",\n",
    "                           kernel_initializer=\"he_normal\",\n",
    "                           kernel_regularizer=keras.regularizers.l2(0.01))"
   ]
  },
  {
   "cell_type": "code",
   "execution_count": 171,
   "id": "4c0cda0e",
   "metadata": {},
   "outputs": [],
   "source": [
    "model = keras.models.Sequential([\n",
    "    keras.layers.Flatten(input_shape=[28, 28]),\n",
    "    RegularizedDense(300),\n",
    "    RegularizedDense(100),\n",
    "    RegularizedDense(10, activation=\"softmax\")\n",
    "])\n",
    "model.compile(loss=\"sparse_categorical_crossentropy\", optimizer=\"nadam\", metrics=[\"accuracy\"])"
   ]
  },
  {
   "cell_type": "code",
   "execution_count": 172,
   "id": "ee06df41",
   "metadata": {},
   "outputs": [
    {
     "name": "stdout",
     "output_type": "stream",
     "text": [
      "Epoch 1/2\n",
      "1719/1719 [==============================] - 3s 1ms/step - loss: 1.6823 - accuracy: 0.8121 - val_loss: 0.7139 - val_accuracy: 0.8340\n",
      "Epoch 2/2\n",
      "1719/1719 [==============================] - 2s 1ms/step - loss: 0.7187 - accuracy: 0.8271 - val_loss: 0.6812 - val_accuracy: 0.8368\n"
     ]
    }
   ],
   "source": [
    "n_epochs = 2\n",
    "history = model.fit(X_TrainScaled, y_Train, epochs=n_epochs,\n",
    "                    validation_data=(X_ValidScaled, y_Valid))"
   ]
  },
  {
   "cell_type": "markdown",
   "id": "21fb56e8",
   "metadata": {},
   "source": [
    "## 드롭아웃"
   ]
  },
  {
   "cell_type": "markdown",
   "id": "fb857339",
   "metadata": {},
   "source": [
    "매 훈련 스텝에서 드롭아웃 비율 p만큼 뉴런 제외.  \n",
    "이번 훈련 스텝에서는 무시되지만 다음 스텝에서는 활성화 될 수 있다.  \n",
    "훈련이 끝난 후에는 뉴런에 더 이상 드롭아웃 적용하지 않음."
   ]
  },
  {
   "cell_type": "code",
   "execution_count": 173,
   "id": "8a696281",
   "metadata": {},
   "outputs": [],
   "source": [
    "model = keras.models.Sequential([\n",
    "    keras.layers.Flatten(input_shape=[28, 28]),\n",
    "    keras.layers.Dropout(rate=0.2),\n",
    "    keras.layers.Dense(300, activation=\"elu\", kernel_initializer=\"he_normal\"),\n",
    "    keras.layers.Dropout(rate=0.2),\n",
    "    keras.layers.Dense(100, activation=\"elu\", kernel_initializer=\"he_normal\"),\n",
    "    keras.layers.Dropout(rate=0.2),\n",
    "    keras.layers.Dense(10, activation=\"softmax\")\n",
    "])\n",
    "model.compile(loss=\"sparse_categorical_crossentropy\", optimizer=\"nadam\", metrics=[\"accuracy\"])"
   ]
  },
  {
   "cell_type": "code",
   "execution_count": 175,
   "id": "0f64a9cc",
   "metadata": {},
   "outputs": [
    {
     "name": "stdout",
     "output_type": "stream",
     "text": [
      "Epoch 1/2\n",
      "1719/1719 [==============================] - 3s 1ms/step - loss: 0.5640 - accuracy: 0.8064 - val_loss: 0.3610 - val_accuracy: 0.8664\n",
      "Epoch 2/2\n",
      "1719/1719 [==============================] - 2s 1ms/step - loss: 0.4181 - accuracy: 0.8461 - val_loss: 0.3403 - val_accuracy: 0.8722\n"
     ]
    }
   ],
   "source": [
    "n_epochs = 2\n",
    "history = model.fit(X_TrainScaled, y_Train, epochs=n_epochs,\n",
    "                    validation_data=(X_ValidScaled, y_Valid))"
   ]
  },
  {
   "cell_type": "markdown",
   "id": "81e34980",
   "metadata": {},
   "source": [
    "모델이 과대적합 됐다면 드롭아웃 비율을 늘릴 수 있다. 반대로 모델이 훈련 세트에 과소적합되면 드롭아웃 비율을 낮춰야 한다.  \n",
    "\n",
    "층이 클 때는 드롭아웃 비율을 높이고 작은 층에서는 드롭아웃 비율을 낮춤  \n",
    "\n",
    "마지막 은닉층 뒤에만 드롭아웃을 사용하는 경우도 많음 <- 드롭아웃을 전체에 적용하는 것이 너무 강하다면 이 방법 추천"
   ]
  },
  {
   "cell_type": "markdown",
   "id": "58eca24e",
   "metadata": {},
   "source": [
    "## 맥스 노름"
   ]
  },
  {
   "cell_type": "markdown",
   "id": "bdb2c347",
   "metadata": {},
   "source": [
    "각각의 뉴런에 대해 입력의 연결가중치 w가 ||w||_2 =< r 이 되도록 제한  \n",
    "|| . ||_2는 l_2노름, r은 맥스-노름 하이퍼파라미터"
   ]
  },
  {
   "cell_type": "code",
   "execution_count": 186,
   "id": "7390cc10",
   "metadata": {},
   "outputs": [],
   "source": [
    "# 적절한 최댓값으로 지정한 max_norm()이 반환한 객체로 은닉층의 kernel_constraint 매개변수 지정\n",
    "layer = keras.layers.Dense(100, activation=\"selu\", kernel_initializer=\"lecun_normal\",\n",
    "                           kernel_constraint=keras.constraints.max_norm(1.))"
   ]
  },
  {
   "cell_type": "code",
   "execution_count": 187,
   "id": "c10cb28d",
   "metadata": {},
   "outputs": [],
   "source": [
    "MaxNormDense = partial(keras.layers.Dense,\n",
    "                       activation=\"selu\", kernel_initializer=\"lecun_normal\",\n",
    "                       kernel_constraint=keras.constraints.max_norm(1.))"
   ]
  },
  {
   "cell_type": "code",
   "execution_count": 188,
   "id": "aac2452a",
   "metadata": {},
   "outputs": [],
   "source": [
    "model = keras.models.Sequential([\n",
    "    keras.layers.Flatten(input_shape=[28, 28]),\n",
    "    MaxNormDense(300),\n",
    "    MaxNormDense(100),\n",
    "    keras.layers.Dense(10, activation=\"softmax\")\n",
    "])\n",
    "model.compile(loss=\"sparse_categorical_crossentropy\", optimizer=\"nadam\", metrics=[\"accuracy\"])"
   ]
  },
  {
   "cell_type": "code",
   "execution_count": 190,
   "id": "9daa4708",
   "metadata": {},
   "outputs": [
    {
     "name": "stdout",
     "output_type": "stream",
     "text": [
      "Epoch 1/2\n",
      "1719/1719 [==============================] - 3s 1ms/step - loss: 0.4748 - accuracy: 0.8347 - val_loss: 0.3694 - val_accuracy: 0.8682\n",
      "Epoch 2/2\n",
      "1719/1719 [==============================] - 2s 1ms/step - loss: 0.3541 - accuracy: 0.8710 - val_loss: 0.3875 - val_accuracy: 0.8580\n"
     ]
    }
   ],
   "source": [
    "n_epochs = 2\n",
    "history = model.fit(X_TrainScaled, y_Train, epochs=n_epochs,\n",
    "                    validation_data=(X_ValidScaled, y_Valid))"
   ]
  },
  {
   "cell_type": "code",
   "execution_count": null,
   "id": "611d1f7e",
   "metadata": {},
   "outputs": [],
   "source": []
  }
 ],
 "metadata": {
  "interpreter": {
   "hash": "ff9b2c783dfd5c2950b68eea8d46ac34fc5d0e7c7b072cc01e42b3e0c50683fe"
  },
  "kernelspec": {
   "display_name": "Python 3 (ipykernel)",
   "language": "python",
   "name": "python3"
  },
  "language_info": {
   "codemirror_mode": {
    "name": "ipython",
    "version": 3
   },
   "file_extension": ".py",
   "mimetype": "text/x-python",
   "name": "python",
   "nbconvert_exporter": "python",
   "pygments_lexer": "ipython3",
   "version": "3.7.13"
  }
 },
 "nbformat": 4,
 "nbformat_minor": 5
}
